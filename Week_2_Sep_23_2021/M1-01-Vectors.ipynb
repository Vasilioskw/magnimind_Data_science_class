{
 "cells": [
  {
   "cell_type": "markdown",
   "source": [
    "# Vectors\n",
    "Vectors, and vector spaces, are fundamental to *linear algebra*, and they're used in many machine learning models. Vectors describe spatial lines and planes, enabling you to perform calculations that explore relationships in multi-dimensional space.\n",
    "\n",
    "## What is a Vector\n",
    "At its simplest, a vector is a numeric element that has both *magnitude* and *direction*. The magnitude represents a distance (for example, \"2 miles\") and the direction indicates which way the vector is headed (for example, \"East\"). Vectors are defined by an n-dimensional coordinate that describe a point in space that can be connected by a line from an arbitrary origin.\n",
    "\n",
    "That all seems a bit complicated, so let's start with a simple, two-dimensional example. In this case, we'll have a vector that is defined by a point in a two-dimensional plane: A two dimensional coordinate consists of an *x* and a *y* value, and in this case we'll use **2** for *x* and **1** for *y*.\n",
    "\n",
    "Our vector can be written as **v**=(2,1), but more formally we would use the following notation, in which the dimensional coordinate values for the vector are shown as a matrix:\n",
    "\\begin{equation}\\vec{v} = \\begin{bmatrix}2 \\\\ 1 \\end{bmatrix}\\end{equation}\n",
    "\n",
    "So what exactly does that mean? Well, the coordinate is two-dimensional, and describes the movements required to get to the end point (of *head*) of the vector - in this case, we need to move 2 units in the *x* dimension, and 1 unit in the *y* dimension. Note that we don't specify a starting point for the vector - we're simply describing a destination coordinate that encapsulate the magnitide and direction of the vector. Think about it as the directions you need to follow to get to *there* from *here*, without specifying where *here* actually is!\n",
    "\n",
    "It can help to visualize the vector, and with a two-dimensional vector, that's pretty straightforward. We just define a two-dimensional plane, choose a starting point, and plot the coordinate described by the vector relative to the starting point.\n",
    "\n",
    "Run the code in the following cell to visualize the vector **v** (which remember is described by the coordinate (2,1))."
   ],
   "metadata": {
    "id": "EQK6SYVUOCQf"
   }
  },
  {
   "cell_type": "code",
   "execution_count": 4,
   "source": [
    "%matplotlib inline\r\n",
    "\r\n",
    "import numpy as np\r\n",
    "import matplotlib.pyplot as plt\r\n",
    "\r\n",
    "# We'll use a numpy array for our vector\r\n",
    "v = np.array([2,1])\r\n",
    "\r\n",
    "# and we'll use a quiver plot to visualize it.\r\n",
    "origin = [0], [0]\r\n",
    "plt.axis('equal')\r\n",
    "plt.grid()\r\n",
    "plt.ticklabel_format(style='sci', axis='both', scilimits=(0,0))\r\n",
    "plt.quiver(*origin, *v, scale=10, color='r')\r\n",
    "plt.show()"
   ],
   "outputs": [
    {
     "output_type": "display_data",
     "data": {
      "image/png": "[encoded data removed]",
      "text/plain": [
       "<Figure size 432x288 with 1 Axes>"
      ]
     },
     "metadata": {
      "needs_background": "light"
     }
    }
   ],
   "metadata": {
    "colab": {
     "base_uri": "https://localhost:8080/",
     "height": 289
    },
    "executionInfo": {
     "elapsed": 408,
     "status": "ok",
     "timestamp": 1632405701377,
     "user": {
      "displayName": "Vasilios Kambouras",
      "photoUrl": "https://lh3.googleusercontent.com/a-/AOh14Gi_oOeUxcV7f3f_ztfXAgZiuy-qsLhtkuOCNK_8hg=s64",
      "userId": "03426397152665191483"
     },
     "user_tz": 240
    },
    "id": "SiT1lfviOCQj",
    "outputId": "b7de13dc-4cfe-4649-c11f-313906ee1361"
   }
  },
  {
   "cell_type": "markdown",
   "source": [
    "Note that we can use a numpy array to define the vector in Python; so to create our (2,1) vector, we simply create a numpy array with the elements [2,1]. We've then used a quiver plot to visualize the vector, using the point 0,0 as the starting point (or *origin*). Our vector of (2,1) is shown as an arrow that starts at 0,0 and moves 2 units along the *x* axis (to the right) and 1 unit along the *y* axis (up)."
   ],
   "metadata": {
    "id": "IPODP-c2OCQm"
   }
  },
  {
   "cell_type": "markdown",
   "source": [
    "The simplest way to represent vectors in Python is using a list structure. A vector is constructed by giving the list of elements surrounded by square brackets, with the\n",
    "elements separated by commas. The assignment operator `=` is used to give a name to the `list`. The `len()` function returns the size (dimension)."
   ],
   "metadata": {
    "id": "8CdvXIFWOCQn"
   }
  },
  {
   "cell_type": "code",
   "execution_count": 9,
   "source": [
    "x = [1.1, 0.0, 3.6, 4]"
   ],
   "outputs": [],
   "metadata": {
    "executionInfo": {
     "elapsed": 85,
     "status": "ok",
     "timestamp": 1632406059491,
     "user": {
      "displayName": "Vasilios Kambouras",
      "photoUrl": "https://lh3.googleusercontent.com/a-/AOh14Gi_oOeUxcV7f3f_ztfXAgZiuy-qsLhtkuOCNK_8hg=s64",
      "userId": "03426397152665191483"
     },
     "user_tz": 240
    },
    "id": "6GmrvqTDOCQn"
   }
  },
  {
   "cell_type": "code",
   "execution_count": 10,
   "source": [
    "print(x)\r\n",
    "print(len(x))"
   ],
   "outputs": [
    {
     "output_type": "stream",
     "name": "stdout",
     "text": [
      "[1.1, 0.0, 3.6, 4]\n",
      "4\n"
     ]
    }
   ],
   "metadata": {
    "colab": {
     "base_uri": "https://localhost:8080/"
    },
    "executionInfo": {
     "elapsed": 112,
     "status": "ok",
     "timestamp": 1632406528998,
     "user": {
      "displayName": "Vasilios Kambouras",
      "photoUrl": "https://lh3.googleusercontent.com/a-/AOh14Gi_oOeUxcV7f3f_ztfXAgZiuy-qsLhtkuOCNK_8hg=s64",
      "userId": "03426397152665191483"
     },
     "user_tz": 240
    },
    "id": "c9n6GkJK-myY",
    "outputId": "abe96d19-d549-4af0-e043-b0a1044c6014"
   }
  },
  {
   "cell_type": "markdown",
   "source": [
    "#### Numpy Arrays\n",
    "Arrays are the main data structure used in machine learning. In Python, arrays from the `NumPy` library, called N-dimensional arrays or the `ndarray`, are used as the primary data structure for representing data. The main data structure in `NumPy` is the `ndarray`, which is a shorthand name for N-dimensional array. When working with `NumPy`, data in an `ndarray` is simply referred to as an array. It is a fixed-sized array in memory that contains data of the same type, such as integers or  foating point values."
   ],
   "metadata": {
    "id": "0cVoKXYyOCQn"
   }
  },
  {
   "cell_type": "code",
   "execution_count": 8,
   "source": [
    "import numpy as np\r\n",
    "l=[2.0,4,5,1]\r\n",
    "a=np.array(l)\r\n",
    "print(a)"
   ],
   "outputs": [
    {
     "output_type": "stream",
     "name": "stdout",
     "text": [
      "[2. 4. 5. 1.]\n"
     ]
    }
   ],
   "metadata": {
    "colab": {
     "base_uri": "https://localhost:8080/"
    },
    "executionInfo": {
     "elapsed": 118,
     "status": "ok",
     "timestamp": 1632433183460,
     "user": {
      "displayName": "Vasilios Kambouras",
      "photoUrl": "https://lh3.googleusercontent.com/a-/AOh14Gi_oOeUxcV7f3f_ztfXAgZiuy-qsLhtkuOCNK_8hg=s64",
      "userId": "03426397152665191483"
     },
     "user_tz": 240
    },
    "id": "S--eaBanOCQo",
    "outputId": "7a0a7637-bb0c-4d46-df8b-e01525ba3ee3"
   }
  },
  {
   "cell_type": "markdown",
   "source": [],
   "metadata": {
    "id": "x4IGrZC8Q0J1"
   }
  },
  {
   "cell_type": "code",
   "execution_count": 6,
   "source": [
    "a.shape"
   ],
   "outputs": [
    {
     "output_type": "execute_result",
     "data": {
      "text/plain": [
       "(4,)"
      ]
     },
     "metadata": {},
     "execution_count": 6
    }
   ],
   "metadata": {
    "colab": {
     "base_uri": "https://localhost:8080/"
    },
    "executionInfo": {
     "elapsed": 160,
     "status": "ok",
     "timestamp": 1632433181178,
     "user": {
      "displayName": "Vasilios Kambouras",
      "photoUrl": "https://lh3.googleusercontent.com/a-/AOh14Gi_oOeUxcV7f3f_ztfXAgZiuy-qsLhtkuOCNK_8hg=s64",
      "userId": "03426397152665191483"
     },
     "user_tz": 240
    },
    "id": "nBuwf3wXOCQo",
    "outputId": "11d372eb-1144-4931-f0f8-17f714b77773"
   }
  },
  {
   "cell_type": "code",
   "execution_count": 9,
   "source": [
    "print(a.dtype)"
   ],
   "outputs": [
    {
     "output_type": "stream",
     "name": "stdout",
     "text": [
      "float64\n"
     ]
    }
   ],
   "metadata": {
    "colab": {
     "base_uri": "https://localhost:8080/"
    },
    "executionInfo": {
     "elapsed": 126,
     "status": "ok",
     "timestamp": 1632433185055,
     "user": {
      "displayName": "Vasilios Kambouras",
      "photoUrl": "https://lh3.googleusercontent.com/a-/AOh14Gi_oOeUxcV7f3f_ztfXAgZiuy-qsLhtkuOCNK_8hg=s64",
      "userId": "03426397152665191483"
     },
     "user_tz": 240
    },
    "id": "Hrfg3P2QmQkq",
    "outputId": "dd0ca958-fe17-4f2a-db9b-986611e8db12"
   }
  },
  {
   "cell_type": "markdown",
   "source": [
    "The common way to represent vectors in Python is to use a `numpy` array. To do so, we must first import the `numpy` package."
   ],
   "metadata": {
    "id": "aBZ5_oyTOCQp"
   }
  },
  {
   "cell_type": "code",
   "execution_count": 8,
   "source": [
    "import numpy as np\r\n",
    "x = np.array([2,4.2,5,6.5])"
   ],
   "outputs": [],
   "metadata": {
    "executionInfo": {
     "elapsed": 116,
     "status": "ok",
     "timestamp": 1632433252710,
     "user": {
      "displayName": "Vasilios Kambouras",
      "photoUrl": "https://lh3.googleusercontent.com/a-/AOh14Gi_oOeUxcV7f3f_ztfXAgZiuy-qsLhtkuOCNK_8hg=s64",
      "userId": "03426397152665191483"
     },
     "user_tz": 240
    },
    "id": "vgy50PwwOCQq"
   }
  },
  {
   "cell_type": "code",
   "execution_count": 22,
   "source": [
    "x[-len(x)]\r\n",
    "#  the length inverse is negative len, in this case (-4) returning the first number \r\n",
    "# (or last number from the right, to left)"
   ],
   "outputs": [
    {
     "output_type": "execute_result",
     "data": {
      "text/plain": [
       "2.0"
      ]
     },
     "metadata": {},
     "execution_count": 22
    }
   ],
   "metadata": {
    "colab": {
     "base_uri": "https://localhost:8080/"
    },
    "executionInfo": {
     "elapsed": 130,
     "status": "ok",
     "timestamp": 1632433562465,
     "user": {
      "displayName": "Vasilios Kambouras",
      "photoUrl": "https://lh3.googleusercontent.com/a-/AOh14Gi_oOeUxcV7f3f_ztfXAgZiuy-qsLhtkuOCNK_8hg=s64",
      "userId": "03426397152665191483"
     },
     "user_tz": 240
    },
    "id": "gMfnAStgmsVL",
    "outputId": "96f88755-61c2-4dd6-9e08-cb711248247c"
   }
  },
  {
   "cell_type": "markdown",
   "source": [
    "We can initialize numpy arrays from Python list. Here, to call the package we put `np`. in front of the array structure. Note: we have parentheses outside the square brackets. A major advantage of numpy arrays is their ability to perform linear algebra operations which make intuitive sense when we are working with vectors."
   ],
   "metadata": {
    "id": "aS2asM6XOCQq"
   }
  },
  {
   "cell_type": "markdown",
   "source": [
    "Indexing. A specific element `xi` is extracted with the expression `x[i]` where `i` is the index (which runs from 0 to n - 1, for an n-vector)."
   ],
   "metadata": {
    "id": "rB65TmRlOCQr"
   }
  },
  {
   "cell_type": "code",
   "execution_count": 29,
   "source": [
    "x[0]=9\r\n",
    "x[0]\r\n",
    "print(x)"
   ],
   "outputs": [
    {
     "output_type": "stream",
     "name": "stdout",
     "text": [
      "[9.  4.2 5.  6.5]\n"
     ]
    }
   ],
   "metadata": {
    "colab": {
     "base_uri": "https://localhost:8080/"
    },
    "executionInfo": {
     "elapsed": 135,
     "status": "ok",
     "timestamp": 1632433660968,
     "user": {
      "displayName": "Vasilios Kambouras",
      "photoUrl": "https://lh3.googleusercontent.com/a-/AOh14Gi_oOeUxcV7f3f_ztfXAgZiuy-qsLhtkuOCNK_8hg=s64",
      "userId": "03426397152665191483"
     },
     "user_tz": 240
    },
    "id": "8EzaS-liOCQr",
    "outputId": "ad22d2e2-dbb0-49a2-c6f7-038a82940d52"
   }
  },
  {
   "cell_type": "markdown",
   "source": [
    "If we used array indexing on the left-hand side of an assignment statement, then the value of the corresponding element changes."
   ],
   "metadata": {
    "id": "xVjfGIqHOCQr"
   }
  },
  {
   "cell_type": "code",
   "execution_count": null,
   "source": [],
   "outputs": [],
   "metadata": {
    "id": "FmMxS1KgOCQs"
   }
  },
  {
   "cell_type": "markdown",
   "source": [
    "-1 is a special index in Python. It is the index of the last element in an array."
   ],
   "metadata": {
    "id": "f8VSETBDOCQs"
   }
  },
  {
   "cell_type": "code",
   "execution_count": null,
   "source": [],
   "outputs": [],
   "metadata": {
    "id": "fT7PkmqhOCQs"
   }
  },
  {
   "cell_type": "markdown",
   "source": [
    "#### Assignment versus copying\n",
    "The behavior of an assignment statement `y = x` where `x` is an array may be surprising for those who use other languages like Matlab or Octave. The assignment expression gives a new name `y` to the same array that is already referenced by `x` instead of creating a copy of `x`."
   ],
   "metadata": {
    "id": "_RG1l_hoOCQt"
   }
  },
  {
   "cell_type": "code",
   "execution_count": 9,
   "source": [
    "x"
   ],
   "outputs": [
    {
     "output_type": "execute_result",
     "data": {
      "text/plain": [
       "array([2. , 4.2, 5. , 6.5])"
      ]
     },
     "metadata": {},
     "execution_count": 9
    }
   ],
   "metadata": {
    "colab": {
     "base_uri": "https://localhost:8080/"
    },
    "executionInfo": {
     "elapsed": 104,
     "status": "ok",
     "timestamp": 1632433735272,
     "user": {
      "displayName": "Vasilios Kambouras",
      "photoUrl": "https://lh3.googleusercontent.com/a-/AOh14Gi_oOeUxcV7f3f_ztfXAgZiuy-qsLhtkuOCNK_8hg=s64",
      "userId": "03426397152665191483"
     },
     "user_tz": 240
    },
    "id": "Xk4mqxPtOCQt",
    "outputId": "10a66af3-4f3a-4ae8-bc70-838b9c51c13f"
   }
  },
  {
   "cell_type": "markdown",
   "source": [
    "To create a new copy of array `x`, the method `copy` should be used."
   ],
   "metadata": {
    "id": "6FxNJ9quOCQu"
   }
  },
  {
   "cell_type": "code",
   "execution_count": 12,
   "source": [
    "y=x\r\n",
    "y"
   ],
   "outputs": [
    {
     "output_type": "execute_result",
     "data": {
      "text/plain": [
       "array([10. ,  4.2,  5. ,  6.5])"
      ]
     },
     "metadata": {},
     "execution_count": 12
    }
   ],
   "metadata": {
    "colab": {
     "base_uri": "https://localhost:8080/"
    },
    "executionInfo": {
     "elapsed": 115,
     "status": "ok",
     "timestamp": 1632433745974,
     "user": {
      "displayName": "Vasilios Kambouras",
      "photoUrl": "https://lh3.googleusercontent.com/a-/AOh14Gi_oOeUxcV7f3f_ztfXAgZiuy-qsLhtkuOCNK_8hg=s64",
      "userId": "03426397152665191483"
     },
     "user_tz": 240
    },
    "id": "R7wG9mubOCQu",
    "outputId": "116d548b-84c6-4886-f2d5-c71b8a1db278"
   }
  },
  {
   "cell_type": "code",
   "execution_count": 13,
   "source": [
    "x[0]=10\r\n",
    "print(x)\r\n",
    "print(y)"
   ],
   "outputs": [
    {
     "output_type": "stream",
     "name": "stdout",
     "text": [
      "[10.   4.2  5.   6.5]\n",
      "[10.   4.2  5.   6.5]\n"
     ]
    }
   ],
   "metadata": {
    "colab": {
     "base_uri": "https://localhost:8080/"
    },
    "executionInfo": {
     "elapsed": 118,
     "status": "ok",
     "timestamp": 1632433817543,
     "user": {
      "displayName": "Vasilios Kambouras",
      "photoUrl": "https://lh3.googleusercontent.com/a-/AOh14Gi_oOeUxcV7f3f_ztfXAgZiuy-qsLhtkuOCNK_8hg=s64",
      "userId": "03426397152665191483"
     },
     "user_tz": 240
    },
    "id": "GD7Te6lpolMQ",
    "outputId": "b4af03da-e07a-4d4a-abcc-9872253ce197"
   }
  },
  {
   "cell_type": "code",
   "execution_count": 14,
   "source": [
    "import numpy as np\r\n",
    "d=np.array([2,3,7,1])\r\n",
    "e= d.copy()\r\n",
    "d[0]=10\r\n",
    "print(d)\r\n",
    "print(e)"
   ],
   "outputs": [
    {
     "output_type": "stream",
     "name": "stdout",
     "text": [
      "[10  3  7  1]\n",
      "[2 3 7 1]\n"
     ]
    }
   ],
   "metadata": {
    "colab": {
     "base_uri": "https://localhost:8080/"
    },
    "executionInfo": {
     "elapsed": 116,
     "status": "ok",
     "timestamp": 1632433936418,
     "user": {
      "displayName": "Vasilios Kambouras",
      "photoUrl": "https://lh3.googleusercontent.com/a-/AOh14Gi_oOeUxcV7f3f_ztfXAgZiuy-qsLhtkuOCNK_8hg=s64",
      "userId": "03426397152665191483"
     },
     "user_tz": 240
    },
    "id": "3veaXeoBo_Yl",
    "outputId": "c2297356-29f6-4c63-8e19-ee455069024a"
   }
  },
  {
   "cell_type": "markdown",
   "source": [
    "#### Vector Equality\n",
    "Equality of vectors is checked using the relational operator `== `(double equal signs). The Python expression evaluates to `True` if the expression on the left and right-hand side of the relational operator is equal, and to `False` otherwise."
   ],
   "metadata": {
    "id": "Wc0JFUSFOCQu"
   }
  },
  {
   "cell_type": "code",
   "execution_count": 20,
   "source": [
    "import numpy as np\n",
    "x=np.array([1,4,6,7])\n",
    "y=x.copy()\n",
    "print(x==y)"
   ],
   "outputs": [
    {
     "output_type": "stream",
     "name": "stdout",
     "text": [
      "[ True  True  True  True]\n"
     ]
    }
   ],
   "metadata": {
    "colab": {
     "base_uri": "https://localhost:8080/"
    },
    "executionInfo": {
     "elapsed": 147,
     "status": "ok",
     "timestamp": 1632360662228,
     "user": {
      "displayName": "Vasilios Kambouras",
      "photoUrl": "https://lh3.googleusercontent.com/a-/AOh14Gi_oOeUxcV7f3f_ztfXAgZiuy-qsLhtkuOCNK_8hg=s64",
      "userId": "03426397152665191483"
     },
     "user_tz": 240
    },
    "id": "4whyokcSOCQv",
    "outputId": "feda2099-dbcf-48d0-c977-86c27387d322"
   }
  },
  {
   "cell_type": "code",
   "execution_count": 21,
   "source": [
    "x[0]=10\r\n",
    "print('x=',x)\r\n",
    "print('y=',y)\r\n",
    "print(x==y)"
   ],
   "outputs": [
    {
     "output_type": "stream",
     "name": "stdout",
     "text": [
      "x= [10  4  6  7]\n",
      "y= [1 4 6 7]\n",
      "[False  True  True  True]\n"
     ]
    }
   ],
   "metadata": {
    "colab": {
     "base_uri": "https://localhost:8080/"
    },
    "executionInfo": {
     "elapsed": 146,
     "status": "ok",
     "timestamp": 1632360711573,
     "user": {
      "displayName": "Vasilios Kambouras",
      "photoUrl": "https://lh3.googleusercontent.com/a-/AOh14Gi_oOeUxcV7f3f_ztfXAgZiuy-qsLhtkuOCNK_8hg=s64",
      "userId": "03426397152665191483"
     },
     "user_tz": 240
    },
    "id": "ADcWQNfWOCQv",
    "outputId": "082430b4-2d34-477f-a5fd-192306628bd4"
   }
  },
  {
   "cell_type": "markdown",
   "source": [
    "Here four evaluations (`True` or `False`) are shown because applying relational operator on `numpy` array performs element-wise comparison. However, if we apply the relational operator on list structures, the Python expression evaluates to `True` only when both sides have the same length and identical entries."
   ],
   "metadata": {
    "id": "jo6fUSYfOCQv"
   }
  },
  {
   "cell_type": "code",
   "execution_count": 22,
   "source": [
    "x=2.4\r\n",
    "y=np.array([2,4])\r\n",
    "print('x=',x)\r\n",
    "print('y=',y)"
   ],
   "outputs": [
    {
     "output_type": "stream",
     "name": "stdout",
     "text": [
      "x= 2.4\n",
      "y= [2 4]\n"
     ]
    }
   ],
   "metadata": {
    "colab": {
     "base_uri": "https://localhost:8080/"
    },
    "executionInfo": {
     "elapsed": 152,
     "status": "ok",
     "timestamp": 1632360898058,
     "user": {
      "displayName": "Vasilios Kambouras",
      "photoUrl": "https://lh3.googleusercontent.com/a-/AOh14Gi_oOeUxcV7f3f_ztfXAgZiuy-qsLhtkuOCNK_8hg=s64",
      "userId": "03426397152665191483"
     },
     "user_tz": 240
    },
    "id": "yYs4hqVIOCQv",
    "outputId": "c76e30b5-f649-4989-d551-32a9354cf1d5",
    "scrolled": true
   }
  },
  {
   "cell_type": "code",
   "execution_count": null,
   "source": [],
   "outputs": [],
   "metadata": {
    "colab": {
     "base_uri": "https://localhost:8080/"
    },
    "executionInfo": {
     "elapsed": 128,
     "status": "ok",
     "timestamp": 1632360903504,
     "user": {
      "displayName": "Vasilios Kambouras",
      "photoUrl": "https://lh3.googleusercontent.com/a-/AOh14Gi_oOeUxcV7f3f_ztfXAgZiuy-qsLhtkuOCNK_8hg=s64",
      "userId": "03426397152665191483"
     },
     "user_tz": 240
    },
    "id": "V3bbckRMOCQv",
    "outputId": "ac032860-8772-4664-945e-7897280daa9b",
    "scrolled": false
   }
  },
  {
   "cell_type": "markdown",
   "source": [
    "#### Scalars versus 1-vectors:\n",
    "\n",
    "In the mathematical notations, 1-vector is considered as a scalar. However, in Python, 1-vectors are not the same as scalars. For list structure, Python distinguishes 1-vector (list with only one element) `[2.4]` and the number `2.4`."
   ],
   "metadata": {
    "id": "XlaCSj0gOCQv"
   }
  },
  {
   "cell_type": "code",
   "execution_count": 48,
   "source": [
    "x=2.4\r\n",
    "y=np.array([2.4])\r\n",
    "\r\n",
    "print(x)\r\n",
    "print(y)"
   ],
   "outputs": [
    {
     "output_type": "stream",
     "name": "stdout",
     "text": [
      "2.4\n",
      "[2.4]\n"
     ]
    }
   ],
   "metadata": {
    "id": "jj3T0y5jOCQw"
   }
  },
  {
   "cell_type": "code",
   "execution_count": 49,
   "source": [
    "x==y"
   ],
   "outputs": [
    {
     "output_type": "execute_result",
     "data": {
      "text/plain": [
       "array([ True])"
      ]
     },
     "metadata": {},
     "execution_count": 49
    }
   ],
   "metadata": {
    "id": "qkz1ZGvhOCQw"
   }
  },
  {
   "cell_type": "markdown",
   "source": [
    "For numpy arrays, Python compares the elements inside `np.array([2.4])` with the scalar. In our example, Python compares the first (and only) element of `y` to the number `2.4`. Hence, `numpy` 1-vectors behave like scalars."
   ],
   "metadata": {
    "id": "5GMRlvtMOCQw"
   }
  },
  {
   "cell_type": "code",
   "execution_count": null,
   "source": [],
   "outputs": [],
   "metadata": {
    "id": "1O35DNMuOCQw"
   }
  },
  {
   "cell_type": "markdown",
   "source": [
    "#### Block and Stacked Vectors\n",
    "In Python, we can construct a block vector using the numpy function `concatenate()`. Remember you need an extra set of parentheses over the vectors that you want to concatenate. The use of numpy array or list structure does not create a huge difference here.\n",
    "\n",
    "There are few Python operations that appear to be able to construct a block or stacked vector but do not. For example, `z = (x,y)` creates a tuple\n",
    "of two vectors; `z = [x,y]` creates an array of the two vectors. Both of these are valid Python expression but neither of them is the stacked vector."
   ],
   "metadata": {
    "id": "HYFJtA6yOCQw"
   }
  },
  {
   "cell_type": "code",
   "execution_count": 51,
   "source": [
    "import numpy as np\r\n",
    "x=np.array([2, 3, 5])\r\n",
    "y=np.array([4, 1, 2, 4, 8])\r\n",
    "z1=np.concatenate((x,y))\r\n",
    "print(z1)"
   ],
   "outputs": [
    {
     "output_type": "stream",
     "name": "stdout",
     "text": [
      "[2 3 5 4 1 2 4 8]\n"
     ]
    }
   ],
   "metadata": {
    "colab": {
     "base_uri": "https://localhost:8080/"
    },
    "executionInfo": {
     "elapsed": 146,
     "status": "ok",
     "timestamp": 1632361503795,
     "user": {
      "displayName": "Vasilios Kambouras",
      "photoUrl": "https://lh3.googleusercontent.com/a-/AOh14Gi_oOeUxcV7f3f_ztfXAgZiuy-qsLhtkuOCNK_8hg=s64",
      "userId": "03426397152665191483"
     },
     "user_tz": 240
    },
    "id": "c6wRgShHOCQw",
    "outputId": "e540a599-ff42-49ac-d15b-4bf62ff5f0b5"
   }
  },
  {
   "cell_type": "markdown",
   "source": [
    "Given two or more existing arrays, you can stack them vertically using the `vstack()` function. For example, given two one-dimensional arrays, you can create a new two-dimensional array with two rows by vertically stacking them. This is demonstrated in the example below."
   ],
   "metadata": {
    "id": "RpPTjOHtOCQx"
   }
  },
  {
   "cell_type": "code",
   "execution_count": 8,
   "source": [
    "z2=(x,y)\r\n",
    "print(z2)\r\n",
    "print(z2[0])\r\n",
    "print(z2[1])\r\n",
    "z3=[x,y]\r\n",
    "print(z3)"
   ],
   "outputs": [
    {
     "output_type": "stream",
     "name": "stdout",
     "text": [
      "(array([2, 3, 5]), array([4, 1, 2, 4, 8]))\n",
      "[2 3 5]\n",
      "[4 1 2 4 8]\n",
      "[array([2, 3, 5]), array([4, 1, 2, 4, 8])]\n"
     ]
    }
   ],
   "metadata": {
    "colab": {
     "base_uri": "https://localhost:8080/"
    },
    "executionInfo": {
     "elapsed": 133,
     "status": "ok",
     "timestamp": 1632361590363,
     "user": {
      "displayName": "Vasilios Kambouras",
      "photoUrl": "https://lh3.googleusercontent.com/a-/AOh14Gi_oOeUxcV7f3f_ztfXAgZiuy-qsLhtkuOCNK_8hg=s64",
      "userId": "03426397152665191483"
     },
     "user_tz": 240
    },
    "id": "Zj_CkMBdOCQx",
    "outputId": "d9395470-1b3c-4d81-84a0-598903aa6a3a"
   }
  },
  {
   "cell_type": "markdown",
   "source": [
    "Given two or more existing arrays, you can stack them horizontally using the `hstack()` function. For example, given two one-dimensional arrays, you can create a new one-dimensional array or one row with the columns of the first and second arrays concatenated. This is demonstrated in the example below."
   ],
   "metadata": {
    "id": "yOXducqcOCQx"
   }
  },
  {
   "cell_type": "code",
   "execution_count": 62,
   "source": [
    "import numpy as np\r\n",
    "a1 = np.array([3, 1, 5])\r\n",
    "a2=np.array([7,2,8])\r\n",
    "z1=np.concatenate((a1, a2)) # Horizontal Stack\r\n",
    "z2=np.vstack((a1, a2)) # Vertical Stack\r\n",
    "z3=np.hstack((a1, a2)) # Horizontal Stack\r\n",
    "\r\n",
    "print(z1)\r\n",
    "print(z2)\r\n",
    "print(z3)\r\n"
   ],
   "outputs": [
    {
     "output_type": "stream",
     "name": "stdout",
     "text": [
      "[3 1 5 7 2 8]\n",
      "[[3 1 5]\n",
      " [7 2 8]]\n",
      "[3 1 5 7 2 8]\n"
     ]
    }
   ],
   "metadata": {}
  },
  {
   "cell_type": "code",
   "execution_count": 63,
   "source": [
    "print(z1.shape)\r\n",
    "print(z2.shape)"
   ],
   "outputs": [
    {
     "output_type": "stream",
     "name": "stdout",
     "text": [
      "(6,)\n",
      "(2, 3)\n"
     ]
    }
   ],
   "metadata": {
    "id": "eRYaopCyOCQx"
   }
  },
  {
   "cell_type": "code",
   "execution_count": null,
   "source": [],
   "outputs": [],
   "metadata": {
    "id": "9lcIFX0LOCQx"
   }
  },
  {
   "cell_type": "markdown",
   "source": [
    "#### Subvectors and Slicing\n",
    "\n",
    "In Python, you can extract a slice of a vector using an index range as the argument. Remember, Python indices start from `0` to `n-1`. For the expressing `x[a:b]` for array `x`, the slicing selects the element from index `a` to index `b-1`. "
   ],
   "metadata": {
    "id": "fm5Oo4hTOCQx"
   }
  },
  {
   "cell_type": "markdown",
   "source": [
    "You can access all data in an array dimension by specifying the slice `:` with no indexes"
   ],
   "metadata": {
    "id": "xHrUrBh-OCQy"
   }
  },
  {
   "cell_type": "code",
   "execution_count": 65,
   "source": [
    "import numpy as np\r\n",
    "mydata = np.array([1, 5, 3, 9, 10])\r\n",
    "print(mydata)"
   ],
   "outputs": [
    {
     "output_type": "stream",
     "name": "stdout",
     "text": [
      "[ 1  5  3  9 10]\n"
     ]
    }
   ],
   "metadata": {
    "colab": {
     "base_uri": "https://localhost:8080/"
    },
    "executionInfo": {
     "elapsed": 142,
     "status": "ok",
     "timestamp": 1632361906049,
     "user": {
      "displayName": "Vasilios Kambouras",
      "photoUrl": "https://lh3.googleusercontent.com/a-/AOh14Gi_oOeUxcV7f3f_ztfXAgZiuy-qsLhtkuOCNK_8hg=s64",
      "userId": "03426397152665191483"
     },
     "user_tz": 240
    },
    "id": "lV69Wf3tOCQy",
    "outputId": "4d8a7fd4-746d-4fe9-9794-d0b4e8c5e728"
   }
  },
  {
   "cell_type": "markdown",
   "source": [
    "The first item of the array can be sliced by specifying a slice that starts at index 0 and ends at index 1 (one item before the to index)."
   ],
   "metadata": {
    "id": "QltEpBQ3OCQy"
   }
  },
  {
   "cell_type": "code",
   "execution_count": 10,
   "source": [
    "print(mydata[:])"
   ],
   "outputs": [
    {
     "output_type": "stream",
     "name": "stdout",
     "text": [
      "[ 1  5  3  9 10]\n"
     ]
    }
   ],
   "metadata": {
    "colab": {
     "base_uri": "https://localhost:8080/"
    },
    "executionInfo": {
     "elapsed": 134,
     "status": "ok",
     "timestamp": 1632361962369,
     "user": {
      "displayName": "Vasilios Kambouras",
      "photoUrl": "https://lh3.googleusercontent.com/a-/AOh14Gi_oOeUxcV7f3f_ztfXAgZiuy-qsLhtkuOCNK_8hg=s64",
      "userId": "03426397152665191483"
     },
     "user_tz": 240
    },
    "id": "pHsoqLK5OCQy",
    "outputId": "10c30db5-f741-451c-d2be-20e2c2409c45"
   }
  },
  {
   "cell_type": "markdown",
   "source": [
    "In the code below, `x[1:4]` select element from index `1` to `3`, which means the second to the fourth elements are selected."
   ],
   "metadata": {
    "id": "2-BBOPStOCQy"
   }
  },
  {
   "cell_type": "code",
   "execution_count": 3,
   "source": [
    "print(mydata[0:2])\r\n",
    "print(mydata[1:4])"
   ],
   "outputs": [
    {
     "output_type": "stream",
     "name": "stdout",
     "text": [
      "[1 5]\n",
      "[5 3 9]\n"
     ]
    }
   ],
   "metadata": {
    "colab": {
     "base_uri": "https://localhost:8080/"
    },
    "executionInfo": {
     "elapsed": 164,
     "status": "ok",
     "timestamp": 1632362107826,
     "user": {
      "displayName": "Vasilios Kambouras",
      "photoUrl": "https://lh3.googleusercontent.com/a-/AOh14Gi_oOeUxcV7f3f_ztfXAgZiuy-qsLhtkuOCNK_8hg=s64",
      "userId": "03426397152665191483"
     },
     "user_tz": 240
    },
    "id": "PdkW1YzHOCQz",
    "outputId": "d54a4155-ffea-4cac-d2c5-8d2526eb45d8"
   }
  },
  {
   "cell_type": "markdown",
   "source": [
    "You can also use index ranges to assign a slice of a vector. In the code below, we reassigned index `3` to `5` in array `x`."
   ],
   "metadata": {
    "id": "6qG3jeVxOCQz"
   }
  },
  {
   "cell_type": "code",
   "execution_count": 73,
   "source": [
    "mydata[0]=2\r\n",
    "#mydata\r\n",
    "\r\n",
    "mydata[2:5]=[21, 53, 40]\r\n",
    "print(mydata[2:5])\r\n",
    "print(mydata)"
   ],
   "outputs": [
    {
     "output_type": "stream",
     "name": "stdout",
     "text": [
      "[21 53 40]\n",
      "[ 2  5 21 53 40]\n"
     ]
    }
   ],
   "metadata": {
    "colab": {
     "base_uri": "https://localhost:8080/"
    },
    "executionInfo": {
     "elapsed": 154,
     "status": "ok",
     "timestamp": 1632362267795,
     "user": {
      "displayName": "Vasilios Kambouras",
      "photoUrl": "https://lh3.googleusercontent.com/a-/AOh14Gi_oOeUxcV7f3f_ztfXAgZiuy-qsLhtkuOCNK_8hg=s64",
      "userId": "03426397152665191483"
     },
     "user_tz": 240
    },
    "id": "SNf6SEsAOCQz",
    "outputId": "5724db27-c1f3-4ce9-c0da-00258a7750b6"
   }
  },
  {
   "cell_type": "markdown",
   "source": [
    "You can also use slicing to select all elements in the array starting from a certain index"
   ],
   "metadata": {
    "id": "_wAkcrtSOCQz"
   }
  },
  {
   "cell_type": "code",
   "execution_count": 80,
   "source": [
    "mydata[1:]"
   ],
   "outputs": [
    {
     "output_type": "execute_result",
     "data": {
      "text/plain": [
       "array([ 5, 21, 53, 40])"
      ]
     },
     "metadata": {},
     "execution_count": 80
    }
   ],
   "metadata": {
    "id": "CWdH4ilgOCQz"
   }
  },
  {
   "cell_type": "markdown",
   "source": [
    "We can also use negative indexes in slices. For example, we can slice the last two items in the list by starting the slice at -2 (the second last item) and not specifying a to index; that takes the slice to the end of the dimension."
   ],
   "metadata": {
    "id": "ELf36VZMOCQ0"
   }
  },
  {
   "cell_type": "code",
   "execution_count": 81,
   "source": [
    "mydata"
   ],
   "outputs": [
    {
     "output_type": "execute_result",
     "data": {
      "text/plain": [
       "array([ 2,  5, 21, 53, 40])"
      ]
     },
     "metadata": {},
     "execution_count": 81
    }
   ],
   "metadata": {
    "id": "KzdS-STjOCQ0"
   }
  },
  {
   "cell_type": "code",
   "execution_count": 84,
   "source": [
    "mydata[:-2]"
   ],
   "outputs": [
    {
     "output_type": "execute_result",
     "data": {
      "text/plain": [
       "array([ 2,  5, 21])"
      ]
     },
     "metadata": {},
     "execution_count": 84
    }
   ],
   "metadata": {
    "id": "JIJEdONwOCQ0"
   }
  },
  {
   "cell_type": "markdown",
   "source": [
    "#### Two Dimensional Slicing"
   ],
   "metadata": {
    "id": "aJdq87JGOCQ0"
   }
  },
  {
   "cell_type": "markdown",
   "source": [
    "It is more likely in machine learning that you will have two-dimensional data. That is a table of data where each row represents a new observation and each column a new feature."
   ],
   "metadata": {
    "id": "XBuKlIFyOCQ0"
   }
  },
  {
   "cell_type": "code",
   "execution_count": 87,
   "source": [
    "import numpy as np\r\n",
    "mydata=np.array([[4,7],\r\n",
    "[5,0],\r\n",
    "[8,1]])\r\n",
    "print(mydata)\r\n",
    "mydata.shape\r\n"
   ],
   "outputs": [
    {
     "output_type": "stream",
     "name": "stdout",
     "text": [
      "[[4 7]\n",
      " [5 0]\n",
      " [8 1]]\n"
     ]
    },
    {
     "output_type": "execute_result",
     "data": {
      "text/plain": [
       "(3, 2)"
      ]
     },
     "metadata": {},
     "execution_count": 87
    }
   ],
   "metadata": {
    "colab": {
     "base_uri": "https://localhost:8080/"
    },
    "executionInfo": {
     "elapsed": 147,
     "status": "ok",
     "timestamp": 1632362859315,
     "user": {
      "displayName": "Vasilios Kambouras",
      "photoUrl": "https://lh3.googleusercontent.com/a-/AOh14Gi_oOeUxcV7f3f_ztfXAgZiuy-qsLhtkuOCNK_8hg=s64",
      "userId": "03426397152665191483"
     },
     "user_tz": 240
    },
    "id": "8YuelpuKOCQ0",
    "outputId": "db907e6a-1d82-40c9-c431-49298d254b34"
   }
  },
  {
   "cell_type": "markdown",
   "source": [
    "Indexing two-dimensional data is similar to indexing one-dimensional data, except that a comma\n",
    "is used to separate the index for each dimension."
   ],
   "metadata": {
    "id": "s72Up8UZOCQ0"
   }
  },
  {
   "cell_type": "code",
   "execution_count": 88,
   "source": [
    "print(x)\r\n",
    "x[0]"
   ],
   "outputs": [
    {
     "output_type": "stream",
     "name": "stdout",
     "text": [
      "[2 3 5]\n"
     ]
    },
    {
     "output_type": "execute_result",
     "data": {
      "text/plain": [
       "2"
      ]
     },
     "metadata": {},
     "execution_count": 88
    }
   ],
   "metadata": {
    "id": "jivqIoHQOCQ1"
   }
  },
  {
   "cell_type": "code",
   "execution_count": 90,
   "source": [
    "mydata[1][1]\r\n",
    "# Row 1 & column 1 - Specific data"
   ],
   "outputs": [
    {
     "output_type": "execute_result",
     "data": {
      "text/plain": [
       "0"
      ]
     },
     "metadata": {},
     "execution_count": 90
    }
   ],
   "metadata": {}
  },
  {
   "cell_type": "markdown",
   "source": [
    "If we are interested in all items in the \f\r\n",
    "rst row, we could leave the second dimension index\r\n",
    "empty, for example:"
   ],
   "metadata": {
    "id": "f_vH8T4tOCQ1"
   }
  },
  {
   "cell_type": "code",
   "execution_count": 99,
   "source": [
    "import numpy as np\r\n",
    "mydata=np.array([[11,22,33],\r\n",
    "                [44,55,66],\r\n",
    "                [77,88,99]])\r\n",
    "mydata"
   ],
   "outputs": [
    {
     "output_type": "execute_result",
     "data": {
      "text/plain": [
       "array([[11, 22, 33],\n",
       "       [44, 55, 66],\n",
       "       [77, 88, 99]])"
      ]
     },
     "metadata": {},
     "execution_count": 99
    }
   ],
   "metadata": {
    "colab": {
     "base_uri": "https://localhost:8080/"
    },
    "executionInfo": {
     "elapsed": 136,
     "status": "ok",
     "timestamp": 1632362983209,
     "user": {
      "displayName": "Vasilios Kambouras",
      "photoUrl": "https://lh3.googleusercontent.com/a-/AOh14Gi_oOeUxcV7f3f_ztfXAgZiuy-qsLhtkuOCNK_8hg=s64",
      "userId": "03426397152665191483"
     },
     "user_tz": 240
    },
    "id": "HpHNccHHOCQ1",
    "outputId": "712eae47-0f19-4aaa-a678-ddb9518743f9"
   }
  },
  {
   "cell_type": "code",
   "execution_count": 104,
   "source": [
    "mydata[:2,1:] # :2 is up to 2nd  col | ,1: is only upto before last row "
   ],
   "outputs": [
    {
     "output_type": "execute_result",
     "data": {
      "text/plain": [
       "array([[22, 33],\n",
       "       [55, 66]])"
      ]
     },
     "metadata": {},
     "execution_count": 104
    }
   ],
   "metadata": {}
  },
  {
   "cell_type": "markdown",
   "source": [
    "It is common to split your loaded data into input variables (X) and the output variable (y). We\r\n",
    "can do this by slicing all rows and all columns up to, but before the last column, then separately\r\n",
    "indexing the last column. For the input features, we can select all rows and all columns except\r\n",
    "the last one by specifying `:` for in the rows index, and `:-1` in the columns index."
   ],
   "metadata": {
    "id": "BSPh02E_OCQ1"
   }
  },
  {
   "cell_type": "code",
   "execution_count": 37,
   "source": [
    "mydata[:2,1:]\r\n",
    "# -1 goes from end back 2 indexis"
   ],
   "outputs": [
    {
     "output_type": "stream",
     "name": "stdout",
     "text": [
      "[[11 22]\n",
      " [44 55]\n",
      " [77 88]]\n",
      "[[11 22]\n",
      " [44 55]\n",
      " [77 88]]\n"
     ]
    }
   ],
   "metadata": {
    "colab": {
     "base_uri": "https://localhost:8080/"
    },
    "executionInfo": {
     "elapsed": 128,
     "status": "ok",
     "timestamp": 1632364339174,
     "user": {
      "displayName": "Vasilios Kambouras",
      "photoUrl": "https://lh3.googleusercontent.com/a-/AOh14Gi_oOeUxcV7f3f_ztfXAgZiuy-qsLhtkuOCNK_8hg=s64",
      "userId": "03426397152665191483"
     },
     "user_tz": 240
    },
    "id": "ASqKx3KNOCQ1",
    "outputId": "25467d20-8a16-42a2-bb50-aa63150d8e9f"
   }
  },
  {
   "cell_type": "markdown",
   "source": [
    "It is common to split a loaded dataset into separate train and test sets. This is a splitting of\r\n",
    "rows where some portion will be used to train the model and the remaining portion will be used\r\n",
    "to estimate the skill of the trained model. This would involve slicing all columns by specifying `:`\r\n",
    "in the second dimension index. The training dataset would be all rows from the beginning to\r\n",
    "the split point."
   ],
   "metadata": {
    "id": "nDBXpll9OCQ1"
   }
  },
  {
   "cell_type": "code",
   "execution_count": 108,
   "source": [
    "import numpy as np\r\n",
    "mydata=np.array([[11, 22, 33],\r\n",
    "                [44,55,66],\r\n",
    "            [77,88,99]])\r\n",
    "mydata"
   ],
   "outputs": [
    {
     "output_type": "execute_result",
     "data": {
      "text/plain": [
       "array([[11, 22, 33],\n",
       "       [44, 55, 66],\n",
       "       [77, 88, 99]])"
      ]
     },
     "metadata": {},
     "execution_count": 108
    }
   ],
   "metadata": {
    "colab": {
     "base_uri": "https://localhost:8080/"
    },
    "executionInfo": {
     "elapsed": 206,
     "status": "ok",
     "timestamp": 1632364248994,
     "user": {
      "displayName": "Vasilios Kambouras",
      "photoUrl": "https://lh3.googleusercontent.com/a-/AOh14Gi_oOeUxcV7f3f_ztfXAgZiuy-qsLhtkuOCNK_8hg=s64",
      "userId": "03426397152665191483"
     },
     "user_tz": 240
    },
    "id": "1x4H6Wi4OCQ1",
    "outputId": "4d79b7da-02da-484c-cf83-8ec564ec4bab"
   }
  },
  {
   "cell_type": "markdown",
   "source": [
    "data is composed of features and target variable"
   ],
   "metadata": {}
  },
  {
   "cell_type": "code",
   "execution_count": 113,
   "source": [
    "x=mydata[:,0:2] # we want ALL the ROWS & only first 2 COLUMS\r\n",
    "# :, is all rows - after ,  0:2 is first 2 colums\r\n",
    "\r\n",
    "print(x) # We have 2 Cols and 3 Rows!"
   ],
   "outputs": [
    {
     "output_type": "stream",
     "name": "stdout",
     "text": [
      "[[11 22]\n",
      " [44 55]\n",
      " [77 88]]\n"
     ]
    }
   ],
   "metadata": {}
  },
  {
   "cell_type": "code",
   "execution_count": 146,
   "source": [
    "# Amother example\r\n",
    "# We want up t0 last col an all rows\r\n",
    "X=mydata[:,:-1] # all cols (:), up to last row (:-1) \r\n",
    "y=mydata[:,-1]\r\n",
    "\r\n",
    "print(mydata)\r\n",
    "print(\"--Original^--\")\r\n",
    "\r\n",
    "print(\"\")\r\n",
    "print(X)\r\n",
    "print(\"x above / y below\")\r\n",
    "print(y)"
   ],
   "outputs": [
    {
     "output_type": "stream",
     "name": "stdout",
     "text": [
      "[[11 22 33]\n",
      " [44 55 66]\n",
      " [77 88 99]]\n",
      "--Original^--\n",
      "\n",
      "[[11 22]\n",
      " [44 55]\n",
      " [77 88]]\n",
      "x above / y below\n",
      "[33 66 99]\n"
     ]
    }
   ],
   "metadata": {}
  },
  {
   "cell_type": "code",
   "execution_count": 150,
   "source": [
    "# of current x, only first 2 rows and all coloms\r\n",
    "X_train=X[:2,:]\r\n",
    "\r\n",
    "# Only last row\r\n",
    "X_test=X[-1]\r\n",
    "\r\n",
    "print(X_train)\r\n",
    "print(\"only first 2 rows and all coloms\")\r\n",
    "print(\"\")\r\n",
    "\r\n",
    "print(X_test)\r\n",
    "print(\"Only last row\")\r\n"
   ],
   "outputs": [
    {
     "output_type": "stream",
     "name": "stdout",
     "text": [
      "[[11 22]\n",
      " [44 55]]\n",
      "only first 2 rows and all coloms\n",
      "\n",
      "[77 88]\n",
      "Only last row\n"
     ]
    }
   ],
   "metadata": {}
  },
  {
   "cell_type": "code",
   "execution_count": 154,
   "source": [
    "y1=np.array([33, 66, 99])\r\n",
    "# 3 col, 1 dimensional | shape is 3,\r\n",
    "y2=np.array([[33, 66, 99]])\r\n",
    "# 3 rows, 2 dimensionals | shape is 1,3 cause row structure exists\r\n",
    "\r\n",
    "print(y1)\r\n",
    "print(y2)\r\n",
    "print(y1.shape)\r\n",
    "print(y2.shape)"
   ],
   "outputs": [
    {
     "output_type": "stream",
     "name": "stdout",
     "text": [
      "[33 66 99]\n",
      "[[33 66 99]]\n",
      "(3,)\n",
      "(1, 3)\n"
     ]
    }
   ],
   "metadata": {}
  },
  {
   "cell_type": "markdown",
   "source": [
    "#### Array Reshaping\n",
    "After slicing your data, you may need to reshape it. For example, some libraries, such as\n",
    "scikit-learn, may require that a one-dimensional array of output variables `(y)` be shaped as a\n",
    "two-dimensional array with one column and outcomes for each column. Some algorithms, like\n",
    "the Long Short-Term Memory recurrent neural network in Keras, require input to be specified\n",
    "as a three-dimensional array comprised of samples, timesteps, and features. It is important to\n",
    "know how to reshape your `NumPy` arrays so that your data meets the expectation of specific\n",
    "Python libraries."
   ],
   "metadata": {
    "id": "GbLhsLa4OCQ1"
   }
  },
  {
   "cell_type": "markdown",
   "source": [
    "NumPy arrays have a shape attribute that returns a tuple of the length of each dimension of\n",
    "the array."
   ],
   "metadata": {
    "id": "B7zErheMOCQ2"
   }
  },
  {
   "cell_type": "code",
   "execution_count": 42,
   "source": [
    "import numpy as np\r\n",
    "c=np.array([[2,4,6,8,9]])\r\n",
    "c.shape"
   ],
   "outputs": [
    {
     "output_type": "execute_result",
     "data": {
      "text/plain": [
       "(1, 5)"
      ]
     },
     "metadata": {},
     "execution_count": 42
    }
   ],
   "metadata": {
    "colab": {
     "base_uri": "https://localhost:8080/"
    },
    "executionInfo": {
     "elapsed": 132,
     "status": "ok",
     "timestamp": 1632364761273,
     "user": {
      "displayName": "Vasilios Kambouras",
      "photoUrl": "https://lh3.googleusercontent.com/a-/AOh14Gi_oOeUxcV7f3f_ztfXAgZiuy-qsLhtkuOCNK_8hg=s64",
      "userId": "03426397152665191483"
     },
     "user_tz": 240
    },
    "id": "m980YRoCOCQ2",
    "outputId": "e14f27a3-108f-4db9-80ab-ae3067e3025c"
   }
  },
  {
   "cell_type": "code",
   "execution_count": 158,
   "source": [
    "import numpy as np\r\n",
    "c1=np.array([2,4,6,8,9])\r\n",
    "c1.shape"
   ],
   "outputs": [
    {
     "output_type": "execute_result",
     "data": {
      "text/plain": [
       "(5,)"
      ]
     },
     "metadata": {},
     "execution_count": 158
    }
   ],
   "metadata": {
    "colab": {
     "base_uri": "https://localhost:8080/"
    },
    "executionInfo": {
     "elapsed": 127,
     "status": "ok",
     "timestamp": 1632365054634,
     "user": {
      "displayName": "Vasilios Kambouras",
      "photoUrl": "https://lh3.googleusercontent.com/a-/AOh14Gi_oOeUxcV7f3f_ztfXAgZiuy-qsLhtkuOCNK_8hg=s64",
      "userId": "03426397152665191483"
     },
     "user_tz": 240
    },
    "id": "wgiqNARDOCQ2",
    "outputId": "2f1e036e-2195-4ae8-e7d1-3b2c106674c9"
   }
  },
  {
   "cell_type": "code",
   "execution_count": 173,
   "source": [
    "c1=c1.reshape(c1.shape[0],1)\r\n",
    "# changed shape to have an additional dimension\r\n",
    "print(c1.shape, \"<- shape\")\r\n",
    "print(\"-\")\r\n",
    "print(c1)\r\n",
    "print(\"5 dimension and 1 col\")"
   ],
   "outputs": [
    {
     "output_type": "stream",
     "name": "stdout",
     "text": [
      "(5, 1) <- shape\n",
      "-\n",
      "[[2]\n",
      " [4]\n",
      " [6]\n",
      " [8]\n",
      " [9]]\n",
      "5 dimension and 1 col\n"
     ]
    }
   ],
   "metadata": {}
  },
  {
   "cell_type": "code",
   "execution_count": 174,
   "source": [
    "import numpy as np\r\n",
    "c3=np.array([2,4,6,8,9,10])\r\n",
    "c3. shape"
   ],
   "outputs": [
    {
     "output_type": "execute_result",
     "data": {
      "text/plain": [
       "(6,)"
      ]
     },
     "metadata": {},
     "execution_count": 174
    }
   ],
   "metadata": {}
  },
  {
   "cell_type": "code",
   "execution_count": 177,
   "source": [
    "c4=c3.reshape(3,2)\r\n",
    "print(c4.shape, \"<- shape\")\r\n",
    "print(\"\")\r\n",
    "print(c4)\r\n",
    "print(\"Origanaly (6,), now (3, 2)\")\r\n"
   ],
   "outputs": [
    {
     "output_type": "stream",
     "name": "stdout",
     "text": [
      "(3, 2) <- shape\n",
      "\n",
      "[[ 2  4]\n",
      " [ 6  8]\n",
      " [ 9 10]]\n",
      "Origanaly (6,), now (3, 2)\n"
     ]
    }
   ],
   "metadata": {}
  },
  {
   "cell_type": "markdown",
   "source": [
    "You can use the size of your array dimensions in the shape dimension, such as specifying\n",
    "parameters. The elements of the tuple can be accessed just like an array, with the 0th index for\n",
    "the number of rows and the 1st index for the number of columns."
   ],
   "metadata": {
    "id": "c3f3-R0IOCQ2"
   }
  },
  {
   "cell_type": "code",
   "execution_count": null,
   "source": [],
   "outputs": [],
   "metadata": {
    "colab": {
     "base_uri": "https://localhost:8080/"
    },
    "executionInfo": {
     "elapsed": 134,
     "status": "ok",
     "timestamp": 1632364984727,
     "user": {
      "displayName": "Vasilios Kambouras",
      "photoUrl": "https://lh3.googleusercontent.com/a-/AOh14Gi_oOeUxcV7f3f_ztfXAgZiuy-qsLhtkuOCNK_8hg=s64",
      "userId": "03426397152665191483"
     },
     "user_tz": 240
    },
    "id": "i51rqSr9OCQ2",
    "outputId": "5877ea9b-5948-4c5d-cf5e-71d8029dff43"
   }
  },
  {
   "cell_type": "markdown",
   "source": [
    "It is common to need to reshape a one-dimensional array into a two-dimensional array with\r\n",
    "one column and multiple rows. NumPy provides the `reshape()` function on the NumPy array\r\n",
    "object that can be used to reshape the data."
   ],
   "metadata": {
    "id": "4jE9fgcXOCQ3"
   }
  },
  {
   "cell_type": "code",
   "execution_count": 49,
   "source": [],
   "outputs": [
    {
     "output_type": "execute_result",
     "data": {
      "text/plain": [
       "array([[2, 4, 6, 8, 9]])"
      ]
     },
     "metadata": {},
     "execution_count": 49
    }
   ],
   "metadata": {
    "colab": {
     "base_uri": "https://localhost:8080/"
    },
    "executionInfo": {
     "elapsed": 136,
     "status": "ok",
     "timestamp": 1632364905831,
     "user": {
      "displayName": "Vasilios Kambouras",
      "photoUrl": "https://lh3.googleusercontent.com/a-/AOh14Gi_oOeUxcV7f3f_ztfXAgZiuy-qsLhtkuOCNK_8hg=s64",
      "userId": "03426397152665191483"
     },
     "user_tz": 240
    },
    "id": "bBmek8rDOCQ3",
    "outputId": "39d32622-da14-4dac-ec52-7d73e81b65eb"
   }
  },
  {
   "cell_type": "markdown",
   "source": [
    "#### Python Indexing into Arrays\r\n",
    "Python slicing and subvectoring is much more general than the mathematical notation. For example, one can use a number range with a third argument, that gives the increment between successive indexes. For example, the index range `1:5:2` is the list of numbers `8, 2`. The expression `x[1:4:2]`\r\n",
    "extracts the second (index 1) to the fifth (index 4) element with an increment of 2. Therefore, the second and fourth entries of `x` are extracted. You can also use an index range that runs backward. The Python expression `x[::-1]` gives the reversed vector, i.e., the vector with the same coefficients but in opposite order."
   ],
   "metadata": {
    "id": "Noy9QjLbOCQ3"
   }
  },
  {
   "cell_type": "code",
   "execution_count": 53,
   "source": [
    "c3"
   ],
   "outputs": [
    {
     "output_type": "execute_result",
     "data": {
      "text/plain": [
       "array([1])"
      ]
     },
     "metadata": {},
     "execution_count": 53
    }
   ],
   "metadata": {
    "colab": {
     "base_uri": "https://localhost:8080/"
    },
    "executionInfo": {
     "elapsed": 141,
     "status": "ok",
     "timestamp": 1632365048300,
     "user": {
      "displayName": "Vasilios Kambouras",
      "photoUrl": "https://lh3.googleusercontent.com/a-/AOh14Gi_oOeUxcV7f3f_ztfXAgZiuy-qsLhtkuOCNK_8hg=s64",
      "userId": "03426397152665191483"
     },
     "user_tz": 240
    },
    "id": "hGtVxpmcOCQ3",
    "outputId": "239c7ecf-1f27-4a9b-b187-d45762f009e1"
   }
  },
  {
   "cell_type": "code",
   "execution_count": null,
   "source": [],
   "outputs": [],
   "metadata": {
    "id": "lOXnV8WBOCQ3"
   }
  },
  {
   "cell_type": "markdown",
   "source": [
    "#### Vector of First Differences\n",
    "Here we use slicing to create an $(n-1)$ vector $d$ which is defined as the first difference vector $d_i=x_{i+1}-x_i$ for $i=1,\\ldots,n-1$ where $x$ is an $n$-vector."
   ],
   "metadata": {
    "id": "ugOn-dPAOCQ3"
   }
  },
  {
   "cell_type": "code",
   "execution_count": 55,
   "source": [
    "import numpy as np\r\n",
    "x= np.array([1,8,9,3,2,1,9,7])\r\n",
    "print(x)"
   ],
   "outputs": [
    {
     "output_type": "stream",
     "name": "stdout",
     "text": [
      "[1 8 9 3 2 1 9 7]\n"
     ]
    }
   ],
   "metadata": {
    "colab": {
     "base_uri": "https://localhost:8080/"
    },
    "executionInfo": {
     "elapsed": 163,
     "status": "ok",
     "timestamp": 1632365547846,
     "user": {
      "displayName": "Vasilios Kambouras",
      "photoUrl": "https://lh3.googleusercontent.com/a-/AOh14Gi_oOeUxcV7f3f_ztfXAgZiuy-qsLhtkuOCNK_8hg=s64",
      "userId": "03426397152665191483"
     },
     "user_tz": 240
    },
    "id": "Ax1AbdB2OCQ3",
    "outputId": "4a716fba-e326-4ebe-af98-7ad5245ec504"
   }
  },
  {
   "cell_type": "code",
   "execution_count": 59,
   "source": [
    "x[2:]"
   ],
   "outputs": [
    {
     "output_type": "execute_result",
     "data": {
      "text/plain": [
       "array([9, 3, 2, 1, 9, 7])"
      ]
     },
     "metadata": {},
     "execution_count": 59
    }
   ],
   "metadata": {
    "colab": {
     "base_uri": "https://localhost:8080/"
    },
    "executionInfo": {
     "elapsed": 148,
     "status": "ok",
     "timestamp": 1632365804320,
     "user": {
      "displayName": "Vasilios Kambouras",
      "photoUrl": "https://lh3.googleusercontent.com/a-/AOh14Gi_oOeUxcV7f3f_ztfXAgZiuy-qsLhtkuOCNK_8hg=s64",
      "userId": "03426397152665191483"
     },
     "user_tz": 240
    },
    "id": "1xq6eaHgkf3a",
    "outputId": "36b59977-b163-48c5-ab4e-7560414dac59"
   }
  },
  {
   "cell_type": "code",
   "execution_count": 60,
   "source": [
    "x[:-2]"
   ],
   "outputs": [
    {
     "output_type": "execute_result",
     "data": {
      "text/plain": [
       "array([1, 8, 9, 3, 2, 1])"
      ]
     },
     "metadata": {},
     "execution_count": 60
    }
   ],
   "metadata": {
    "colab": {
     "base_uri": "https://localhost:8080/"
    },
    "executionInfo": {
     "elapsed": 156,
     "status": "ok",
     "timestamp": 1632365815122,
     "user": {
      "displayName": "Vasilios Kambouras",
      "photoUrl": "https://lh3.googleusercontent.com/a-/AOh14Gi_oOeUxcV7f3f_ztfXAgZiuy-qsLhtkuOCNK_8hg=s64",
      "userId": "03426397152665191483"
     },
     "user_tz": 240
    },
    "id": "s6BJlsoMlYWM",
    "outputId": "61ef5757-bce9-462f-9b83-9170464a07d6"
   }
  },
  {
   "cell_type": "code",
   "execution_count": 61,
   "source": [
    "print(x[1:]-x[:-1])\r\n",
    "x_d1=[7,1,-6,-1,-1,8,-2]"
   ],
   "outputs": [
    {
     "output_type": "stream",
     "name": "stdout",
     "text": [
      "[ 7  1 -6 -1 -1  8 -2]\n"
     ]
    }
   ],
   "metadata": {
    "colab": {
     "base_uri": "https://localhost:8080/"
    },
    "executionInfo": {
     "elapsed": 7,
     "status": "ok",
     "timestamp": 1632365816667,
     "user": {
      "displayName": "Vasilios Kambouras",
      "photoUrl": "https://lh3.googleusercontent.com/a-/AOh14Gi_oOeUxcV7f3f_ztfXAgZiuy-qsLhtkuOCNK_8hg=s64",
      "userId": "03426397152665191483"
     },
     "user_tz": 240
    },
    "id": "-ViPUEWuk0W-",
    "outputId": "94f5a7e1-786a-4ace-c2ef-3a2fab113346"
   }
  },
  {
   "cell_type": "markdown",
   "source": [
    "#### Lists of Vectors\n",
    "There are several ways to represent lists of vectors in Python. If we give the elements of the list, separated by commas, and surrounded by square brackets, we form a one-dimensional arrays of vectors or a list of lists. If instead, we use parentheses as delimiters, we obtain a tuple."
   ],
   "metadata": {
    "id": "n-C17t9HOCQ3"
   }
  },
  {
   "cell_type": "code",
   "execution_count": null,
   "source": [],
   "outputs": [],
   "metadata": {
    "id": "9rY1EDexOCQ4"
   }
  },
  {
   "cell_type": "code",
   "execution_count": null,
   "source": [],
   "outputs": [],
   "metadata": {
    "id": "-JIRZ2rdOCQ4"
   }
  },
  {
   "cell_type": "code",
   "execution_count": null,
   "source": [],
   "outputs": [],
   "metadata": {
    "id": "wR1F-vfoOCQ4"
   }
  },
  {
   "cell_type": "code",
   "execution_count": null,
   "source": [],
   "outputs": [],
   "metadata": {
    "id": "R-2WB9XGOCQ4"
   }
  },
  {
   "cell_type": "markdown",
   "source": [
    "#### Zero Vectors\n",
    "We can create a zero vector of size `n` using `np.zeros(n)`. The expression `np.zeros(len(x))` creates a zero vector with the same dimension as vector `x`."
   ],
   "metadata": {
    "id": "lm1tVQ54OCQ4"
   }
  },
  {
   "cell_type": "code",
   "execution_count": 62,
   "source": [
    "import numpy as np\r\n",
    "\r\n",
    "k=np.zeros(3)\r\n",
    "k"
   ],
   "outputs": [
    {
     "output_type": "execute_result",
     "data": {
      "text/plain": [
       "array([0., 0., 0.])"
      ]
     },
     "metadata": {},
     "execution_count": 62
    }
   ],
   "metadata": {
    "colab": {
     "base_uri": "https://localhost:8080/"
    },
    "executionInfo": {
     "elapsed": 380,
     "status": "ok",
     "timestamp": 1632365880689,
     "user": {
      "displayName": "Vasilios Kambouras",
      "photoUrl": "https://lh3.googleusercontent.com/a-/AOh14Gi_oOeUxcV7f3f_ztfXAgZiuy-qsLhtkuOCNK_8hg=s64",
      "userId": "03426397152665191483"
     },
     "user_tz": 240
    },
    "id": "aoibT8EVOCQ4",
    "outputId": "2268b7a5-8f23-42ee-a6ee-5f72a707cb9c"
   }
  },
  {
   "cell_type": "markdown",
   "source": [
    "#### Unit Vectors\n",
    "We can cretate $e_i$, the $i^{th}$ unit vector of length $n$ using index.  "
   ],
   "metadata": {
    "id": "CbzoWHYHOCQ4"
   }
  },
  {
   "cell_type": "code",
   "execution_count": null,
   "source": [],
   "outputs": [],
   "metadata": {
    "id": "n7fESV8VOCQ4"
   }
  },
  {
   "cell_type": "markdown",
   "source": [
    "#### Ones Vector\n",
    "We can create a ones vector of size `n` using `np.ones(n)`. The expression `np.ones(len(x))` creates a ones vector with the same dimension as vector `x`."
   ],
   "metadata": {
    "id": "5SmtijTjOCQ4"
   }
  },
  {
   "cell_type": "code",
   "execution_count": null,
   "source": [],
   "outputs": [],
   "metadata": {
    "id": "AqiO_e58OCQ5"
   }
  },
  {
   "cell_type": "markdown",
   "source": [
    "#### Random Vectors\n",
    "Sometimes it is useful to generate random vectors to check our algorithm or test an identity. In Python, we generate a random vector of size `n` using `np.random.random(n)`."
   ],
   "metadata": {
    "id": "wkxnDKydOCQ5"
   }
  },
  {
   "cell_type": "code",
   "execution_count": null,
   "source": [],
   "outputs": [],
   "metadata": {
    "id": "NAvQAafoOCQ5"
   }
  },
  {
   "cell_type": "markdown",
   "source": [
    "## Vector Addition\n",
    "So far, we've worked with one vector at a time. What happens when you need to add two vectors.\n",
    "\n",
    "If `x` and `y` are numpy arrays of the same size, `x+y` and `x-y` give their sum and difference, respectively.\n"
   ],
   "metadata": {
    "id": "im-GApBZOCQ5"
   }
  },
  {
   "cell_type": "code",
   "execution_count": null,
   "source": [],
   "outputs": [],
   "metadata": {
    "id": "WqUjddyKOCQ5"
   }
  },
  {
   "cell_type": "markdown",
   "source": [
    "Let's take a look at an example, we already have a vector named **v**, as defined here:\n",
    "\\begin{equation}\\vec{v} = \\begin{bmatrix}2 \\\\ 1 \\end{bmatrix}\\end{equation}\n",
    "Now let's create a second vector, and called **s** like this:\n",
    "\\begin{equation}\\vec{s} = \\begin{bmatrix}-3 \\\\ 2 \\end{bmatrix}\\end{equation}\n",
    "\n",
    "Run the cell below to create **s** and plot it together with **v**:"
   ],
   "metadata": {
    "id": "XdqKXFLXOCQ5"
   }
  },
  {
   "cell_type": "code",
   "execution_count": null,
   "source": [
    ")"
   ],
   "outputs": [
    {
     "output_type": "error",
     "ename": "SyntaxError",
     "evalue": "invalid syntax (Temp/ipykernel_29408/687023194.py, line 1)",
     "traceback": [
      "\u001b[1;36m  File \u001b[1;32m\"C:\\Users\\KAIST\\AppData\\Local\\Temp/ipykernel_29408/687023194.py\"\u001b[1;36m, line \u001b[1;32m1\u001b[0m\n\u001b[1;33m    )\u001b[0m\n\u001b[1;37m    ^\u001b[0m\n\u001b[1;31mSyntaxError\u001b[0m\u001b[1;31m:\u001b[0m invalid syntax\n"
     ]
    }
   ],
   "metadata": {
    "id": "wVKD5wpcOCQ5",
    "outputId": "b2fade68-aa56-4e89-95a7-c495b6459f38"
   }
  },
  {
   "cell_type": "code",
   "execution_count": null,
   "source": [],
   "outputs": [],
   "metadata": {
    "id": "QMeIgM8JOCQ6"
   }
  },
  {
   "cell_type": "markdown",
   "source": [
    "You can see in the plot that the two vectors have different directions and magnitudes. So what happens when we add them together?\n",
    "\n",
    "Here's the formula:\n",
    "\\begin{equation}\\vec{z} = \\vec{v}+\\vec{s}\\end{equation}\n",
    "\n",
    "In terms of our vector matrices, this looks like this:\n",
    "\\begin{equation}\\vec{z} = \\begin{bmatrix}2 \\\\ 1 \\end{bmatrix} + \\begin{bmatrix}-3 \\\\ 2 \\end{bmatrix}\\end{equation}\n",
    "\n",
    "Which gives the following result:\n",
    "\\begin{equation}\\vec{z} = \\begin{bmatrix}2 \\\\ 1 \\end{bmatrix} + \\begin{bmatrix}-3 \\\\ 2 \\end{bmatrix} = \\begin{bmatrix}-1 \\\\ 3 \\end{bmatrix}\\end{equation}\n",
    "\n",
    "Let's verify that Python gives the same result:"
   ],
   "metadata": {
    "id": "e7DpInIBOCQ6"
   }
  },
  {
   "cell_type": "code",
   "execution_count": null,
   "source": [],
   "outputs": [],
   "metadata": {
    "id": "7JFWLsU0OCQ6"
   }
  },
  {
   "cell_type": "markdown",
   "source": [
    "So what does that look like on our plot?"
   ],
   "metadata": {
    "id": "PqE8TIixOCQ6"
   }
  },
  {
   "cell_type": "code",
   "execution_count": null,
   "source": [],
   "outputs": [],
   "metadata": {
    "id": "vb9ZtTnAOCQ6"
   }
  },
  {
   "cell_type": "markdown",
   "source": [
    "So what's going on here?\n",
    "Well, we added the dimensions of **s** to the dimensions of **v** to describe a new vector **z**. Let's break that down:\n",
    "- The dimensions of **v** are (2,1), so from our starting point we move 2 units in the *x* dimension (across to the right) and 1 unit in the *y* dimension (up). In the plot, if you start at the (0,0) position, this is shown as the red arrow.\n",
    "- Then we're adding **s**, which has dimension values (-3, 2), so we move -3 units in the *x* dimension (across to the left, because it's a negative number) and then 2 units in the *y* dimension (up). On the plot, if you start at the head of the red arrow and make these moves, you'll end up at the head of the green arrow, which represents **z**.\n",
    "\n",
    "The same is true if you perform the addition operation the other way around and add **v** to **s**, the steps to create **s** are described by the blue arrow, and if you use that as the starting point for **v**, you'll end up at the head of the green arrow, which represents **z**.\n",
    "\n",
    "Note on the plot that if you simply moved the tail of the blue arrow so that it started at the head of red arrow, its head would end up in the same place as the head of the green arrow; and the same would be true if you moved tail of the red arrow to the head of the blue arrow."
   ],
   "metadata": {
    "id": "vqQZnYnYOCQ6"
   }
  },
  {
   "cell_type": "markdown",
   "source": [],
   "metadata": {
    "id": "1o9Fy3kEOCQ6"
   }
  },
  {
   "cell_type": "markdown",
   "source": [
    "# Vector Multiplication\n",
    "\n",
    "- Scalar Multiplication\n",
    "- Vector Multiplication\n",
    "- Inner (Dot Product) Multiplication\n",
    "\n",
    "\n",
    "#### Scalar Multiplication\n",
    "Let's start with *scalar* multiplication - in other words, multiplying a vector by a single numeric value. If **a** is a number and **x** is a numpy array (vector), you can express the scalar-vector product either as **a*x** or **x*a**."
   ],
   "metadata": {
    "id": "UVoS7NqBOCQ7"
   }
  },
  {
   "cell_type": "code",
   "execution_count": null,
   "source": [],
   "outputs": [],
   "metadata": {
    "id": "R-qRM-D-OCQ7"
   }
  },
  {
   "cell_type": "markdown",
   "source": [
    "Suppose I want to multiply my vector by 2, which I could write like this:\n",
    "\n",
    "\\begin{equation} \\vec{w} = 2\\vec{v}\\end{equation}\n",
    "\n",
    "Note that the result of this calculation is a new vector named **w**. So how would we calculate this?\n",
    "Recall that **v** is defined like this:\n",
    "\n",
    "\\begin{equation}\\vec{v} = \\begin{bmatrix}2 \\\\ 1 \\end{bmatrix}\\end{equation}\n",
    "\n",
    "To calculate 2v, we simply need to apply the operation to each dimension value in the vector matrix, like this:\n",
    "\n",
    "\\begin{equation}\\vec{w} = \\begin{bmatrix}2 \\cdot 2 \\\\  2 \\cdot 1 \\end{bmatrix}\\end{equation}\n",
    "\n",
    "Which gives us the following result:\n",
    "\n",
    "\\begin{equation}\\vec{w} = \\begin{bmatrix}2 \\cdot 2 \\\\  2 \\cdot 1 \\end{bmatrix} = \\begin{bmatrix}4 \\\\ 2 \\end{bmatrix}\\end{equation}\n",
    "In Python, you can apply these sort of matrix operations directly to numpy arrays, so we can simply calculate **w** like this:"
   ],
   "metadata": {
    "id": "NVo31uTJOCQ7"
   }
  },
  {
   "cell_type": "code",
   "execution_count": null,
   "source": [],
   "outputs": [],
   "metadata": {
    "id": "JLp4QXvwOCQ7"
   }
  },
  {
   "cell_type": "markdown",
   "source": [
    "The same approach is taken for scalar division.\n",
    "\n",
    "Try it for yourself - use the cell below to calculate a new vector named **b** based on the following definition:\n",
    "\n",
    "\\begin{equation}\\vec{b} = \\frac{\\vec{v}}{2}\\end{equation}"
   ],
   "metadata": {
    "id": "BT8Aid5HOCQ7"
   }
  },
  {
   "cell_type": "code",
   "execution_count": 50,
   "source": [],
   "outputs": [
    {
     "output_type": "execute_result",
     "data": {
      "text/plain": [
       "2.4"
      ]
     },
     "metadata": {},
     "execution_count": 50
    }
   ],
   "metadata": {
    "id": "zjh4jcbZOCQ7"
   }
  },
  {
   "cell_type": "markdown",
   "source": [
    "#### Vector Multiplication\n",
    "Two vectors of equal length can be multiplied together.\n",
    "$$c=a\\times b$$\n",
    "\n",
    "As with addition and subtraction, this operation is performed element-wise to result in a new vector of the same length:\n",
    "\n",
    "$$c=(a_1\\times b_1, a_2\\times b_2, a_3\\times b_3)$$\n",
    "\n",
    "Or, we may say\n",
    "\n",
    "\\begin{align*} \n",
    "c[0]&=a[0]\\times b[0] \\\\ \n",
    "c[1]&=a[1]\\times b[1]\\\\\n",
    "c[2]&=a[2]\\times b[2]\n",
    "\\end{align*}"
   ],
   "metadata": {
    "id": "wtTNGQnjOCQ7"
   }
  },
  {
   "cell_type": "code",
   "execution_count": null,
   "source": [],
   "outputs": [],
   "metadata": {
    "id": "YIFW-LMsOCQ7"
   }
  },
  {
   "cell_type": "markdown",
   "source": [
    "#### Inner Product\n",
    "So we've seen how to multiply a vector by a scalar. How about multiplying two vectors together? There are actually two ways to do this depending on whether you want the result to be a *scalar product* (in other words, a number) or a *vector product* (a vector).\n",
    "\n",
    "To get a scalar product, we calculate the *dot product*. This takes a similar approach to multiplying a vector by a scalar, except that it multiplies each component pair of the vectors and sums the results. To indicate that we are performing a dot product operation, we use the &bull; operator:\n",
    "\n",
    "\\begin{equation} \\vec{v} \\cdot \\vec{s} = (v_{1} \\cdot s_{1}) + (v_{2} \\cdot s_{2}) ... + \\; (v_{n} \\cdot s_{n})\\end{equation}\n",
    "\n",
    "So for our vectors **v** (2,1) and **s** (-3,2), our calculation looks like this:\n",
    "\n",
    "\\begin{equation} \\vec{v} \\cdot \\vec{s} = (2 \\cdot -3) + (1 \\cdot 2) = -6 + 2 = -4\\end{equation}\n",
    "\n",
    "So the dot product, or scalar product, of **v** &bull; **s** is **-4**.\n",
    "\n",
    "In Python, you can use the ***numpy.dot*** or ***numpy.inner*** function to calculate the dot product of two vector arrays:"
   ],
   "metadata": {
    "id": "Le3Hf7wKOCQ8"
   }
  },
  {
   "cell_type": "code",
   "execution_count": null,
   "source": [],
   "outputs": [],
   "metadata": {
    "id": "WhEmV0VrOCQ8"
   }
  },
  {
   "cell_type": "code",
   "execution_count": null,
   "source": [],
   "outputs": [],
   "metadata": {
    "id": "dAL94hxgOCQ8"
   }
  },
  {
   "cell_type": "markdown",
   "source": [
    "In Python 3.5 and later, you can also use the **@** operator to calculate the dot product:"
   ],
   "metadata": {
    "id": "Mo7J2qulOCQ8"
   }
  },
  {
   "cell_type": "code",
   "execution_count": null,
   "source": [],
   "outputs": [],
   "metadata": {
    "id": "kwobrV1YOCQ8"
   }
  },
  {
   "cell_type": "markdown",
   "source": [
    "#### Elementwise Operation\n",
    "In Python we can perform elementwise operations on numpy arrays. For numpy arrays of the same length `x` and `y`, the expressions `x * y`, `x / y` and `x ** y` give the resulting vectors of the same length as `x` and `y` and $i^{th}$ element $x_iy_i$, $x_i/y_i$, and $x_i^{y_i}$, respectively."
   ],
   "metadata": {
    "id": "e67sEN4JOCQ8"
   }
  },
  {
   "cell_type": "code",
   "execution_count": null,
   "source": [],
   "outputs": [],
   "metadata": {
    "id": "4IMtm5rmOCQ8"
   }
  },
  {
   "cell_type": "markdown",
   "source": [
    "#### Vector $L_1$ Norm\n",
    "\n",
    "The length of a vector can be calculated using the $L_1$ norm. The notation for the $L_1$ norm of a vector is $||v||_1$. As such, this\n",
    "length is sometimes called the Manhattan norm. The norm is a calculation of Manhattan distance from the origin of the vector space.\n",
    "\n",
    "$$||v||_1=|a_1|+|a_2|+|a_3|$$\n",
    "\n",
    "In several machine learning applications, it is important to discriminate between\n",
    "elements that are exactly zero and elements that are small but nonzero. In these\n",
    "cases, we turn to a function that grows at the same rate in all locations, but retains\n",
    "mathematical simplicity: the $L_1$ norm"
   ],
   "metadata": {
    "id": "7ExB0O3ZOCQ8"
   }
  },
  {
   "cell_type": "code",
   "execution_count": null,
   "source": [],
   "outputs": [],
   "metadata": {
    "id": "g7FmRymXOCQ9"
   }
  },
  {
   "cell_type": "markdown",
   "source": [
    "#### Vector $L_2$ Norm\n",
    "\n",
    "The $L_2(v)=||v||_2$ norm calculates the distance of the vector coordinate from the origin of the vector space and it is known as Euclidean norm or Euclidean distance from the origin. It is a positive value.\n",
    "\n",
    "$$||v||_2=\\sqrt{a_1^2+a_2^2+a_3^2}$$\n"
   ],
   "metadata": {
    "id": "zw9abT5tOCQ9"
   }
  },
  {
   "cell_type": "code",
   "execution_count": null,
   "source": [],
   "outputs": [],
   "metadata": {
    "id": "qRYnwO-pOCQ9"
   }
  }
 ],
 "metadata": {
  "colab": {
   "collapsed_sections": [
    "aJdq87JGOCQ0",
    "Noy9QjLbOCQ3",
    "n-C17t9HOCQ3",
    "CbzoWHYHOCQ4",
    "5SmtijTjOCQ4",
    "wkxnDKydOCQ5",
    "wtTNGQnjOCQ7",
    "Le3Hf7wKOCQ8",
    "e67sEN4JOCQ8",
    "7ExB0O3ZOCQ8",
    "zw9abT5tOCQ9"
   ],
   "name": "M1-01-Vectors.ipynb",
   "provenance": []
  },
  "kernelspec": {
   "name": "python3",
   "display_name": "Python 3.8.8 64-bit ('base': conda)"
  },
  "language_info": {
   "codemirror_mode": {
    "name": "ipython",
    "version": 3
   },
   "file_extension": ".py",
   "mimetype": "text/x-python",
   "name": "python",
   "nbconvert_exporter": "python",
   "pygments_lexer": "ipython3",
   "version": "3.8.8"
  },
  "interpreter": {
   "hash": "22395880743f2fb9d88ac3e35405ca9d6de4c66e339d158fcaaa05abe5b095a8"
  }
 },
 "nbformat": 4,
 "nbformat_minor": 1
}