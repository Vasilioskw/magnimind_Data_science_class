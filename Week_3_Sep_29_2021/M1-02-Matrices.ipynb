{
 "cells": [
  {
   "cell_type": "markdown",
   "metadata": {},
   "source": [
    "# Introduction to Matrices\n",
    "In general terms, a matrix is an array of numbers that are arranged into rows and columns.\n",
    "\n",
    "## Matrices and Matrix Notation\n",
    "A matrix arranges numbers into rows and columns, like this:\n",
    "\n",
    "\\begin{equation}A = \\begin{bmatrix}\n",
    "  1 & 2 & 3 \\\\\n",
    "  4 & 5 & 6\n",
    " \\end{bmatrix}\n",
    "\\end{equation}\n",
    "\n",
    "Note that matrices are generally named as a capital letter. We refer to the *elements* of the matrix using the lower case equivalent with a subscript row and column indicator, like this:\n",
    "\n",
    "\\begin{equation}A = \\begin{bmatrix}\n",
    "  a_{1,1} & a_{1,2} & a_{1,3} \\\\\n",
    "  a_{2,1} & a_{2,2} & a_{2,3}\n",
    " \\end{bmatrix}\n",
    "\\end{equation}\n",
    "\n",
    "In Python, you can define a matrix as a 2-dimensional ***numpy.array***, like this:"
   ]
  },
  {
   "cell_type": "code",
   "execution_count": null,
   "metadata": {},
   "outputs": [],
   "source": []
  },
  {
   "cell_type": "markdown",
   "metadata": {},
   "source": [
    "You can also use the ***numpy.matrix*** type, which is a specialist subclass of ***array***:"
   ]
  },
  {
   "cell_type": "markdown",
   "metadata": {},
   "source": [
    "There are some differences in behavior between ***array*** and ***matrix*** types - particularly with regards to multiplication (which we'll explore later). You can use either, but most experienced Python programmers who need to work with both vectors and matrices tend to prefer the ***array*** type for consistency."
   ]
  },
  {
   "cell_type": "code",
   "execution_count": null,
   "metadata": {},
   "outputs": [],
   "source": []
  },
  {
   "cell_type": "markdown",
   "metadata": {},
   "source": [
    "You can check the shape of a matrix as follows:"
   ]
  },
  {
   "cell_type": "code",
   "execution_count": null,
   "metadata": {},
   "outputs": [],
   "source": []
  },
  {
   "cell_type": "markdown",
   "metadata": {},
   "source": [
    "If matrix A is expressed as a list of lists, we can get the dimensions of the array using\n",
    "the len() function as follows."
   ]
  },
  {
   "cell_type": "code",
   "execution_count": null,
   "metadata": {},
   "outputs": [],
   "source": []
  },
  {
   "cell_type": "markdown",
   "metadata": {},
   "source": [
    "***Indexing entries:*** We get the ith row jth column entry of a matrix A using `A[i-1, j-1]` since Python starts indexing from 0."
   ]
  },
  {
   "cell_type": "code",
   "execution_count": null,
   "metadata": {},
   "outputs": [],
   "source": []
  },
  {
   "cell_type": "markdown",
   "metadata": {},
   "source": [
    "Below, we create a function to check if a matrix is tall. Note: A `lambda` function is a small anonymous function. A `lambda` function can take any number of arguments, but can only have one expression."
   ]
  },
  {
   "cell_type": "code",
   "execution_count": null,
   "metadata": {},
   "outputs": [],
   "source": []
  },
  {
   "cell_type": "markdown",
   "metadata": {},
   "source": [
    "We can also assign a new value to a matrix entry using similar bracket notation."
   ]
  },
  {
   "cell_type": "code",
   "execution_count": null,
   "metadata": {},
   "outputs": [],
   "source": []
  },
  {
   "cell_type": "markdown",
   "metadata": {},
   "source": [
    "***Equality of Matrices:*** `A == B` determines whether the matrices A and B are equal. For numpy arrays A and B, the expression A == B creates a matrix whose entries are Boolean, depending on whether the corresponding entries of A and B are the same. The expression `sum(A == B)` gives the number of entries of A and B that are equal. "
   ]
  },
  {
   "cell_type": "code",
   "execution_count": null,
   "metadata": {},
   "outputs": [],
   "source": []
  },
  {
   "cell_type": "markdown",
   "metadata": {},
   "source": [
    "***Row and Column Vectors:*** In Python, there is a subtle difference between a 1D array, a column vector and a row vector."
   ]
  },
  {
   "cell_type": "code",
   "execution_count": null,
   "metadata": {},
   "outputs": [],
   "source": []
  },
  {
   "cell_type": "markdown",
   "metadata": {},
   "source": [
    "You can see `a` has shape (3,), meaning that it is a 1D array, while `b` has shape (3, 1), meaning that it is a 3x1 matrix. This small subtlety generally won't affect you and `b`\n",
    "can be reshaped to look like `c` easily with the command `b.reshape(1,3)`."
   ]
  },
  {
   "cell_type": "code",
   "execution_count": null,
   "metadata": {},
   "outputs": [],
   "source": []
  },
  {
   "cell_type": "markdown",
   "metadata": {},
   "source": [
    "***Slicing and submatrices:*** Using colon notation you can extract a submatrix."
   ]
  },
  {
   "cell_type": "code",
   "execution_count": null,
   "metadata": {},
   "outputs": [],
   "source": []
  },
  {
   "cell_type": "markdown",
   "metadata": {},
   "source": [
    "A very useful shortcut is the index range `:` which refers to the whole index range for that index. This can be used to extract the rows and columns of a matrix."
   ]
  },
  {
   "cell_type": "code",
   "execution_count": null,
   "metadata": {},
   "outputs": [],
   "source": []
  },
  {
   "cell_type": "markdown",
   "metadata": {},
   "source": [
    "The numpy function `reshape()` gives a new $k\\times l$ matrix. (We must have $mn = kl$, i.e., the original and reshaped matrix must have the same number of entries. This is not standard mathematical notation, but they can be useful in Python."
   ]
  },
  {
   "cell_type": "code",
   "execution_count": null,
   "metadata": {},
   "outputs": [],
   "source": []
  },
  {
   "cell_type": "markdown",
   "metadata": {},
   "source": [
    "***Block matrices:*** We can use the `np.block()` method to construct block matrices in Python. In mathematics, a block matrix or a partitioned matrix is a matrix that is interpreted as having been broken into sections called blocks or submatrices."
   ]
  },
  {
   "cell_type": "code",
   "execution_count": null,
   "metadata": {},
   "outputs": [],
   "source": []
  },
  {
   "cell_type": "markdown",
   "metadata": {},
   "source": [
    "***Column and Row Interpretation of a Matrix:*** An $m\\times n$ matrix A can be interpreted as a collection of $n$ number of m-vectors (its columns) or a collection of $m$ number of n-row-vectors (its rows). Column vectors can be converted into a matrix using the horizontal function `np.hstack()` and row vectors can be converted into a matrix using the vertical function `np.vstack ()`."
   ]
  },
  {
   "cell_type": "code",
   "execution_count": null,
   "metadata": {},
   "outputs": [],
   "source": []
  },
  {
   "cell_type": "markdown",
   "metadata": {},
   "source": [
    "## Matrix Arithmetic"
   ]
  },
  {
   "cell_type": "markdown",
   "metadata": {},
   "source": [
    "### Matrix Addition/Subtraction\n",
    "\n",
    "Two matrices with the same dimensions can be added together to create a new third matrix:\n",
    "$$C=A+B$$\n",
    "\n",
    "The scalar elements of the resulting matrix are calculated as the addition of the elements in each of the matrices being added:\n",
    "\n",
    "\\begin{equation}C = \\begin{bmatrix}\n",
    "  a_{1,1}+b_{1,1} & a_{1,2}+b_{1,2}  \\\\\n",
    "  a_{2,1}+b_{2,1} & a_{2,2}+b_{2,2}  \\\\\n",
    "  a_{3,1}+b_{3,1} & a_{3,2}+b_{3,2}  \\\\\n",
    " \\end{bmatrix}\n",
    "\\end{equation}\n",
    "Or we can also say\n",
    "\\begin{align*} \n",
    "C[0,0]&=A[0,0]+B[0,0] \\\\ \n",
    "C[1,0]&=A[1,0]+B[1,0] \\\\ \n",
    "C[2,0]&=A[2,0]+B[2,0] \\\\ \n",
    "C[0,1]&=A[0,1]+B[0,1] \\\\ \n",
    "C[1,1]&=A[1,1]+B[1,1] \\\\ \n",
    "C[2,1]&=A[2,1]+B[2,1] \\\\ \n",
    "\\end{align*}\n",
    "We can implement this in Python as following:"
   ]
  },
  {
   "cell_type": "code",
   "execution_count": null,
   "metadata": {},
   "outputs": [],
   "source": []
  },
  {
   "cell_type": "markdown",
   "metadata": {},
   "source": [
    "### Matrix Multiplication (Hadamard Product)/Division\n",
    "\n",
    "Two matrices with the same size can be multiplied together, and this is often called element-wise\n",
    "matrix multiplication or the Hadamard product. It is not the typical operation meant when\n",
    "referring to matrix multiplication, therefore a di\u000b",
    "erent operator is often used, such as a circle $\\circ$\n",
    "$$C=A\\circ B$$\n",
    "\n",
    "As with element-wise subtraction and addition, element-wise multiplication involves the\n",
    "multiplication of elements from each parent matrix to calculate the values in the new matrix.\n",
    "\n",
    "\\begin{equation}C = \\begin{bmatrix}\n",
    "  a_{1,1}\\times b_{1,1} & a_{1,2}\\times b_{1,2}  \\\\\n",
    "  a_{2,1}\\times b_{2,1} & a_{2,2}\\times b_{2,2}  \\\\\n",
    "  a_{3,1}\\times b_{3,1} & a_{3,2}\\times b_{3,2}  \\\\\n",
    " \\end{bmatrix}\n",
    "\\end{equation}\n",
    "Or we can also say\n",
    "\\begin{align*} \n",
    "C[0,0]&=A[0,0]\\times B[0,0] \\\\ \n",
    "C[1,0]&=A[1,0]\\times B[1,0] \\\\ \n",
    "C[2,0]&=A[2,0]\\times B[2,0] \\\\ \n",
    "C[0,1]&=A[0,1]\\times B[0,1] \\\\ \n",
    "C[1,1]&=A[1,1]\\times B[1,1] \\\\ \n",
    "C[2,1]&=A[2,1]\\times B[2,1] \\\\ \n",
    "\\end{align*}\n",
    "We can implement this in Python as following:"
   ]
  },
  {
   "cell_type": "code",
   "execution_count": null,
   "metadata": {},
   "outputs": [],
   "source": []
  },
  {
   "cell_type": "markdown",
   "metadata": {},
   "source": [
    "### Matrix-Matrix Multiplication\n",
    "\n",
    "Matrix multiplication, also called the matrix dot product is more complicated than the previous\n",
    "operations and involves a rule as not all matrices can be multiplied together.\n",
    "$$C=A\\cdot B$$\n",
    "\n",
    "The rule for matrix multiplication is that the number of columns (n) in the first matrix (A) must equal the number of rows (m) in\n",
    "the second matrix (B):\n",
    "$$C(m,k)=A(m,n)\\cdot B(n,k)$$\n",
    "\n",
    "\n",
    "\\begin{equation}A = \\begin{bmatrix}\n",
    "  a_{1,1} & a_{1,2}  \\\\\n",
    "  a_{2,1} & a_{2,2}  \\\\\n",
    "  a_{3,1} & a_{3,2}  \\\\\n",
    " \\end{bmatrix}\n",
    "\\end{equation}\n",
    "\n",
    "\\begin{equation}B = \\begin{bmatrix}\n",
    "  b_{1,1} & b_{1,2}  \\\\\n",
    "  b_{2,1} & b_{2,2}  \\\\\n",
    " \\end{bmatrix}\n",
    "\\end{equation}\n",
    "\n",
    "\\begin{equation}C = \\begin{bmatrix}\n",
    "  a_{1,1}\\times b_{1,1} + a_{1,2}\\times b_{2,1}, & a_{1,1}\\times b_{1,2} + a_{1,2}\\times b_{2,22}   \\\\\n",
    "  a_{2,1}\\times b_{1,1} + a_{2,2}\\times b_{2,1}, & a_{2,1}\\times b_{1,2} + a_{2,2}\\times b_{2,22}   \\\\\n",
    "  a_{3,1}\\times b_{1,1} + a_{3,2}\\times b_{2,1}, & a_{3,1}\\times b_{1,2} + a_{3,2}\\times b_{2,22}   \\\\\n",
    " \\end{bmatrix}\n",
    "\\end{equation}\n",
    "Or we can also say\n",
    "\\begin{align*} \n",
    "C[0,0]&=A[0,0]\\times B[0,0]+ A[0,1]\\times B[1,0] \\\\ \n",
    "C[1,0]&=A[1,0]\\times B[0,0]+ A[1,1]\\times B[1,0] \\\\\n",
    "C[2,0]&=A[2,0]\\times B[0,0]+ A[2,1]\\times B[1,0] \\\\\n",
    "C[0,1]&=A[0,0]\\times B[0,1]+ A[0,1]\\times B[1,1] \\\\\n",
    "C[1,1]&=A[1,0]\\times B[0,1]+ A[1,1]\\times B[1,1] \\\\\n",
    "C[2,1]&=A[2,0]\\times B[0,1]+ A[2,1]\\times B[1,1] \\\\\n",
    "\\end{align*}\n",
    "\n",
    "The matrix multiplication operation can be implemented in NumPy using the `dot()` function.\n",
    "It can also be calculated using the newer `@` operator, since Python version 3.5. The example\n",
    "below demonstrates both methods."
   ]
  },
  {
   "cell_type": "code",
   "execution_count": null,
   "metadata": {},
   "outputs": [],
   "source": []
  },
  {
   "cell_type": "markdown",
   "metadata": {},
   "source": [
    "### Matrix-Vector Multiplication\n",
    "A matrix and a vector can be multiplied together as long as the rule of matrix multiplication\n",
    "is observed. Specifically, that the number of columns in the matrix must equal the number of\n",
    "items in the vector. As with matrix multiplication, the operation can be written using the dot\n",
    "notation. Because the vector only has one column, the result is always a vector.\n",
    "$$c=A\\cdot v$$\n",
    "\n",
    "\\begin{equation}A = \\begin{bmatrix}\n",
    "  a_{1,1} & a_{1,2}  \\\\\n",
    "  a_{2,1} & a_{2,2}  \\\\\n",
    "  a_{3,1} & a_{3,2}  \\\\\n",
    " \\end{bmatrix}\n",
    "\\end{equation}\n",
    "\n",
    "\\begin{equation}v = \\begin{bmatrix}\n",
    "  v_{1}   \\\\\n",
    "  v_{2}   \\\\\n",
    " \\end{bmatrix}\n",
    "\\end{equation}\n",
    "\n",
    "\\begin{equation}c = \\begin{bmatrix}\n",
    "  a_{1,1}\\times v_{1} + a_{1,2}\\times v_{2}\\\\\n",
    "  a_{2,1}\\times v_{1} + a_{2,2}\\times v_{2}\\\\\n",
    "  a_{3,1}\\times v_{1} + a_{3,2}\\times v_{2}\\\\\n",
    " \\end{bmatrix}\n",
    "\\end{equation}\n",
    "Or we can also say\n",
    "\\begin{align*} \n",
    "c[0]&=A[0,0]\\times v[0]+ A[0,1]\\times v[1] \\\\ \n",
    "c[1]&=A[1,0]\\times v[0]+ A[1,1]\\times v[1] \\\\\n",
    "c[2]&=A[2,0]\\times v[0]+ A[2,1]\\times v[1] \\\\\n",
    "\\end{align*}\n",
    "\n",
    "The matrix-vector multiplication can be implemented in `NumPy` using the `dot()` function."
   ]
  },
  {
   "cell_type": "code",
   "execution_count": null,
   "metadata": {},
   "outputs": [],
   "source": []
  },
  {
   "cell_type": "markdown",
   "metadata": {},
   "source": [
    "### Matrix-Scalar Multiplication\n",
    "A matrix can be multiplied by a scalar. This can be represented using the dot notation between\n",
    "the matrix and the scalar.\n",
    "$$C=A\\cdot b$$\n",
    "\n",
    "\\begin{equation}A = \\begin{bmatrix}\n",
    "  a_{1,1} & a_{1,2}  \\\\\n",
    "  a_{2,1} & a_{2,2}  \\\\\n",
    "  a_{3,1} & a_{3,2}  \\\\\n",
    " \\end{bmatrix}\n",
    "\\end{equation}\n",
    "\n",
    "\n",
    "\\begin{equation}C = \\begin{bmatrix}\n",
    "  a_{1,1}\\times b + a_{1,2}\\times b\\\\\n",
    "  a_{2,1}\\times b + a_{2,2}\\times b\\\\\n",
    "  a_{3,1}\\times b + a_{3,2}\\times b\\\\\n",
    " \\end{bmatrix}\n",
    "\\end{equation}\n",
    "Or we can also say\n",
    "\\begin{align*} \n",
    "C[0,0]&=A[0,0]\\times b \\\\ \n",
    "C[1,0]&=A[1,0]\\times b \\\\\n",
    "C[2,0]&=A[2,0]\\times b \\\\\n",
    "C[0,1]&=A[0,0]\\times b \\\\\n",
    "C[1,1]&=A[1,0]\\times b \\\\\n",
    "C[2,1]&=A[2,0]\\times b \\\\\n",
    "\\end{align*}\n",
    "\n",
    "The matrix-vector multiplication can be implemented in `NumPy` using multiplication operator."
   ]
  },
  {
   "cell_type": "code",
   "execution_count": null,
   "metadata": {},
   "outputs": [],
   "source": []
  },
  {
   "cell_type": "markdown",
   "metadata": {},
   "source": [
    "## Types of Matrices"
   ]
  },
  {
   "cell_type": "markdown",
   "metadata": {},
   "source": [
    "***Zero Matrix:*** A zero matrix of size $m\\times n$ is created using `np.zeros((m,n))`. Note the double brackets!"
   ]
  },
  {
   "cell_type": "code",
   "execution_count": null,
   "metadata": {},
   "outputs": [],
   "source": []
  },
  {
   "cell_type": "markdown",
   "metadata": {},
   "source": [
    "***Ones Matrix:*** In Python, you can create a matyrix with all entries equal to one by using `np.ones((m,n))`"
   ]
  },
  {
   "cell_type": "code",
   "execution_count": null,
   "metadata": {},
   "outputs": [],
   "source": []
  },
  {
   "cell_type": "markdown",
   "metadata": {},
   "source": [
    "***Square Matrix:*** A square matrix is a matrix where the number of rows (n) is equivalent to the number of\n",
    "columns (m)."
   ]
  },
  {
   "cell_type": "code",
   "execution_count": null,
   "metadata": {},
   "outputs": [],
   "source": []
  },
  {
   "cell_type": "markdown",
   "metadata": {},
   "source": [
    "***Symmetric Matrix:*** A symmetric matrix is a type of square matrix where the top-right triangle is the same as the\n",
    "bottom-left triangle."
   ]
  },
  {
   "cell_type": "code",
   "execution_count": null,
   "metadata": {},
   "outputs": [],
   "source": []
  },
  {
   "cell_type": "markdown",
   "metadata": {},
   "source": [
    "***Triangular Matrix:*** A triangular matrix is a type of square matrix that has all values in the upper-right or lower-left\n",
    "of the matrix with the remaining elements filled with zero values. A triangular matrix with\n",
    "values only above the main diagonal is called an `upper triangular matrix`. Whereas, a triangular\n",
    "matrix with values only below the main diagonal is called a `lower triangular matrix`."
   ]
  },
  {
   "cell_type": "code",
   "execution_count": null,
   "metadata": {},
   "outputs": [],
   "source": []
  },
  {
   "cell_type": "markdown",
   "metadata": {},
   "source": [
    "***Diagonal Matrices:*** A diagonal matrix is one where values outside of the main diagonal have a zero value, where the\n",
    "main diagonal is taken from the top left of the matrix to the bottom right. A diagonal matrix\n",
    "is often denoted with the variable D and may be represented as a full matrix or as a vector of\n",
    "values on the main diagonal."
   ]
  },
  {
   "cell_type": "markdown",
   "metadata": {},
   "source": [
    "Here we can see that, when we apply the `np.diag()` function to a matrix, it extracts\n",
    "the diagonal elements as a vector (array). When we apply the `np.diag()` function to a\n",
    "vector (array), it constructs a diagonal matrix with diagonal entries given in the vector."
   ]
  },
  {
   "cell_type": "code",
   "execution_count": null,
   "metadata": {},
   "outputs": [],
   "source": []
  },
  {
   "cell_type": "markdown",
   "metadata": {},
   "source": [
    "***Identity Matrix:*** An identity matrix is a square matrix that does not change a vector when multiplied. The\n",
    "values of an identity matrix are known. All of the scalar values along the main diagonal (top-left\n",
    "to bottom-right) have the value one, while all other values are zero. \n",
    "You can also use the `np.identity(n)` function to create an identity matrix of dimension n."
   ]
  },
  {
   "cell_type": "code",
   "execution_count": null,
   "metadata": {},
   "outputs": [],
   "source": []
  },
  {
   "cell_type": "markdown",
   "metadata": {},
   "source": [
    "Another useful expression is `np.c_` and `np.r_`, which allow us to stack column (and row) vectors with other vectors (and matrices)."
   ]
  },
  {
   "cell_type": "code",
   "execution_count": null,
   "metadata": {},
   "outputs": [],
   "source": []
  },
  {
   "cell_type": "markdown",
   "metadata": {},
   "source": [
    "***Random Matrices:*** A random $m\\times n$ matrix with entries distributed uniformly between\n",
    "0 and 1 is created using `np.random.random((m,n))`. For entries that have a standard\n",
    "normal distribution, we can use `np.random.normal((m,n))`."
   ]
  },
  {
   "cell_type": "code",
   "execution_count": null,
   "metadata": {},
   "outputs": [],
   "source": []
  },
  {
   "cell_type": "markdown",
   "metadata": {},
   "source": [
    "***Sparse Matrices:*** Functions for creating and manipulating sparse matrices are contained\n",
    "in the `scipy.sparse` module, which must be installed and imported. Sparse\n",
    "matrices are stored in a special format that exploits the property that most of the elements\n",
    "are zero. The `scipy.sparse.coo_matrix()` function create a sparse matrix from\n",
    "three arrays that specify the `row indexes`, `column indexes`, and `values` of the nonzero\n",
    "elements. The following code creates a sparse matrix\n",
    "\n",
    "\\begin{bmatrix}-1.11 &0 &1.17 &0 &0  \\\\\n",
    "0.15 &-0.10 &0 &0 &0\\\\\n",
    "0 &0 &-0.3 &0 &0\\\\\n",
    "0 &0 &0 &0.13 &0\\\\\n",
    "\\end{bmatrix}"
   ]
  },
  {
   "cell_type": "code",
   "execution_count": null,
   "metadata": {},
   "outputs": [],
   "source": []
  },
  {
   "cell_type": "markdown",
   "metadata": {},
   "source": [
    "***Orthogonal Matrices:*** Two vectors are orthogonal when their dot product equals zero. If the length of each vector is 1\n",
    "then the vectors are called orthonormal because they are both orthogonal and normalized.\n",
    "$$v\\cdot w=v\\cdot w^{T}=0$$\n",
    "\n",
    "An orthogonal matrix is a square matrix whose rows are mutually orthonormal and\n",
    "whose columns are mutually orthonormal:\n",
    "\n",
    "$$Q^T\\cdot Q=Q\\cdot Q^T=I$$\n",
    "$$Q^T=Q^{-1}$$"
   ]
  },
  {
   "cell_type": "code",
   "execution_count": null,
   "metadata": {},
   "outputs": [],
   "source": []
  },
  {
   "cell_type": "markdown",
   "metadata": {},
   "source": [
    "## Matrix Operations\n",
    "Matrix operations are used in the description of many machine learning algorithms. Some\n",
    "operations can be used directly to solve key equations, whereas others provide useful shorthand\n",
    "or foundation in the description and the use of more complex matrix operations."
   ]
  },
  {
   "cell_type": "markdown",
   "metadata": {},
   "source": [
    "***Transpose:*** A defined matrix can be transposed, which creates a new matrix with the number of columns\n",
    "and rows flipped. This is denoted by the superscript T next to the matrix $A^T$.\n",
    "\\begin{equation}A = \\begin{bmatrix}\n",
    "  1 & 2  \\\\\n",
    "  3 & 4  \\\\\n",
    "  5 & 6  \\\\\n",
    " \\end{bmatrix}\n",
    "\\end{equation}\n",
    "\\begin{equation}A^T = \\begin{bmatrix}\n",
    "  1 & 3 & 5  \\\\\n",
    "  2 & 4 & 6  \\\\\n",
    " \\end{bmatrix}\n",
    "\\end{equation}"
   ]
  },
  {
   "cell_type": "code",
   "execution_count": null,
   "metadata": {},
   "outputs": [],
   "source": []
  },
  {
   "cell_type": "markdown",
   "metadata": {},
   "source": [
    "***Inverse:*** Matrix inversion is a process that finds another matrix that when multiplied with the matrix,\n",
    "results in an identity matrix. Given a matrix $A$, find matrix $B$, such that $AB=BA=I^n$. A matrix is invertible if there exists another matrix that results in the identity matrix, where not all matrices are invertible. A square matrix that is not invertible is referred to as singular. $A^{-1}$ is primarily useful as a theoretical tool, and should not actually be used in practice for most software applications."
   ]
  },
  {
   "cell_type": "code",
   "execution_count": null,
   "metadata": {},
   "outputs": [],
   "source": []
  },
  {
   "cell_type": "markdown",
   "metadata": {},
   "source": [
    "***Trace:*** The trace operator gives the sum of all of the diagonal entries of a matrix. The operation of calculating a trace on a square matrix is described using the notation `tr(A)` where $A$ is the square matrix on which the operation is being performed."
   ]
  },
  {
   "cell_type": "code",
   "execution_count": null,
   "metadata": {},
   "outputs": [],
   "source": []
  },
  {
   "cell_type": "markdown",
   "metadata": {},
   "source": [
    "***Determinant:*** The determinant of a square matrix is a scalar representation of the volume of the matrix. It is denoted by the `det(A)` notation or `|A|`, where A is the matrix on which we are calculating the determinant. The determinant of a square matrix is calculated from the elements of the matrix. More technically, the determinant is the product of all the eigenvalues of the matrix. The intuition for the determinant is\n",
    "that it describes the way a matrix will scale another matrix when they are multiplied together.\n",
    "For example, a determinant of 1 preserves the space of the other matrix. A determinant of 0 indicates that the matrix cannot be inverted. It tells immediately whether the matrix is invertible. The determinant is a zero when the matrix has no\n",
    "inverse."
   ]
  },
  {
   "cell_type": "code",
   "execution_count": null,
   "metadata": {},
   "outputs": [],
   "source": []
  },
  {
   "cell_type": "markdown",
   "metadata": {},
   "source": [
    "***Rank:*** The rank of a matrix is the estimate of the number of linearly independent rows or columns in\n",
    "a matrix. The rank of a matrix M is often denoted as the function `rank()`. An intuition for rank is to consider it the number of dimensions spanned by all of the vectors within a matrix. For example, a rank of 0 suggest all vectors span a point, a rank of 1 suggests\n",
    "all vectors span a line, a rank of 2 suggests all vectors span a two-dimensional plane. The rank\n",
    "is estimated numerically, often using a matrix decomposition method. A common approach is to\n",
    "use the Singular-Value Decomposition or SVD for short."
   ]
  },
  {
   "cell_type": "code",
   "execution_count": null,
   "metadata": {},
   "outputs": [],
   "source": []
  },
  {
   "cell_type": "markdown",
   "metadata": {},
   "source": [
    "The next example makes it clear that the rank is not the number of dimensions of the\n",
    "matrix, but the number of linearly independent directions. Three examples of a 2 x 2 matrix\n",
    "are provided demonstrating matrices with rank 0, 1 and 2."
   ]
  },
  {
   "cell_type": "code",
   "execution_count": null,
   "metadata": {},
   "outputs": [],
   "source": []
  }
 ],
 "metadata": {
  "kernelspec": {
   "display_name": "Python 3 (ipykernel)",
   "language": "python",
   "name": "python3"
  },
  "language_info": {
   "codemirror_mode": {
    "name": "ipython",
    "version": 3
   },
   "file_extension": ".py",
   "mimetype": "text/x-python",
   "name": "python",
   "nbconvert_exporter": "python",
   "pygments_lexer": "ipython3",
   "version": "3.7.10"
  }
 },
 "nbformat": 4,
 "nbformat_minor": 4
}
